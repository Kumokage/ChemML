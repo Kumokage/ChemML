{
 "cells": [
  {
   "cell_type": "code",
   "execution_count": 1,
   "metadata": {
    "tags": []
   },
   "outputs": [
    {
     "name": "stdout",
     "output_type": "stream",
     "text": [
      "Requirement already satisfied: plotly==5.14.1 in /opt/conda/lib/python3.10/site-packages (5.14.1)\n",
      "Requirement already satisfied: packaging in /opt/conda/lib/python3.10/site-packages (from plotly==5.14.1) (23.1)\n",
      "Requirement already satisfied: tenacity>=6.2.0 in /opt/conda/lib/python3.10/site-packages (from plotly==5.14.1) (8.2.2)\n",
      "Requirement already satisfied: jupyterlab>=3 in /opt/conda/lib/python3.10/site-packages (3.6.3)\n",
      "Requirement already satisfied: ipywidgets>=7.6 in /opt/conda/lib/python3.10/site-packages (8.0.6)\n",
      "Requirement already satisfied: jupyter-ydoc~=0.2.3 in /opt/conda/lib/python3.10/site-packages (from jupyterlab>=3) (0.2.3)\n",
      "Requirement already satisfied: tomli in /opt/conda/lib/python3.10/site-packages (from jupyterlab>=3) (2.0.1)\n",
      "Requirement already satisfied: tornado>=6.1.0 in /opt/conda/lib/python3.10/site-packages (from jupyterlab>=3) (6.2)\n",
      "Requirement already satisfied: jupyter-server-ydoc~=0.8.0 in /opt/conda/lib/python3.10/site-packages (from jupyterlab>=3) (0.8.0)\n",
      "Requirement already satisfied: packaging in /opt/conda/lib/python3.10/site-packages (from jupyterlab>=3) (23.1)\n",
      "Requirement already satisfied: jupyter-server<3,>=1.16.0 in /opt/conda/lib/python3.10/site-packages (from jupyterlab>=3) (2.5.0)\n",
      "Requirement already satisfied: nbclassic in /opt/conda/lib/python3.10/site-packages (from jupyterlab>=3) (0.5.5)\n",
      "Requirement already satisfied: notebook<7 in /opt/conda/lib/python3.10/site-packages (from jupyterlab>=3) (6.5.4)\n",
      "Requirement already satisfied: jupyter-core in /opt/conda/lib/python3.10/site-packages (from jupyterlab>=3) (5.3.0)\n",
      "Requirement already satisfied: jupyterlab-server~=2.19 in /opt/conda/lib/python3.10/site-packages (from jupyterlab>=3) (2.22.1)\n",
      "Requirement already satisfied: ipython in /opt/conda/lib/python3.10/site-packages (from jupyterlab>=3) (8.12.0)\n",
      "Requirement already satisfied: jinja2>=2.1 in /opt/conda/lib/python3.10/site-packages (from jupyterlab>=3) (3.1.2)\n",
      "Requirement already satisfied: jupyterlab-widgets~=3.0.7 in /opt/conda/lib/python3.10/site-packages (from ipywidgets>=7.6) (3.0.7)\n",
      "Requirement already satisfied: traitlets>=4.3.1 in /opt/conda/lib/python3.10/site-packages (from ipywidgets>=7.6) (5.9.0)\n",
      "Requirement already satisfied: widgetsnbextension~=4.0.7 in /opt/conda/lib/python3.10/site-packages (from ipywidgets>=7.6) (4.0.7)\n",
      "Requirement already satisfied: ipykernel>=4.5.1 in /opt/conda/lib/python3.10/site-packages (from ipywidgets>=7.6) (6.22.0)\n",
      "Requirement already satisfied: debugpy>=1.6.5 in /opt/conda/lib/python3.10/site-packages (from ipykernel>=4.5.1->ipywidgets>=7.6) (1.6.7)\n",
      "Requirement already satisfied: matplotlib-inline>=0.1 in /opt/conda/lib/python3.10/site-packages (from ipykernel>=4.5.1->ipywidgets>=7.6) (0.1.6)\n",
      "Requirement already satisfied: jupyter-client>=6.1.12 in /opt/conda/lib/python3.10/site-packages (from ipykernel>=4.5.1->ipywidgets>=7.6) (8.2.0)\n",
      "Requirement already satisfied: pyzmq>=20 in /opt/conda/lib/python3.10/site-packages (from ipykernel>=4.5.1->ipywidgets>=7.6) (25.0.2)\n",
      "Requirement already satisfied: comm>=0.1.1 in /opt/conda/lib/python3.10/site-packages (from ipykernel>=4.5.1->ipywidgets>=7.6) (0.1.3)\n",
      "Requirement already satisfied: psutil in /opt/conda/lib/python3.10/site-packages (from ipykernel>=4.5.1->ipywidgets>=7.6) (5.9.4)\n",
      "Requirement already satisfied: nest-asyncio in /opt/conda/lib/python3.10/site-packages (from ipykernel>=4.5.1->ipywidgets>=7.6) (1.5.6)\n",
      "Requirement already satisfied: pexpect>4.3 in /opt/conda/lib/python3.10/site-packages (from ipython->jupyterlab>=3) (4.8.0)\n",
      "Requirement already satisfied: pygments>=2.4.0 in /opt/conda/lib/python3.10/site-packages (from ipython->jupyterlab>=3) (2.15.0)\n",
      "Requirement already satisfied: prompt-toolkit!=3.0.37,<3.1.0,>=3.0.30 in /opt/conda/lib/python3.10/site-packages (from ipython->jupyterlab>=3) (3.0.38)\n",
      "Requirement already satisfied: jedi>=0.16 in /opt/conda/lib/python3.10/site-packages (from ipython->jupyterlab>=3) (0.18.2)\n",
      "Requirement already satisfied: stack-data in /opt/conda/lib/python3.10/site-packages (from ipython->jupyterlab>=3) (0.6.2)\n",
      "Requirement already satisfied: pickleshare in /opt/conda/lib/python3.10/site-packages (from ipython->jupyterlab>=3) (0.7.5)\n",
      "Requirement already satisfied: backcall in /opt/conda/lib/python3.10/site-packages (from ipython->jupyterlab>=3) (0.2.0)\n",
      "Requirement already satisfied: decorator in /opt/conda/lib/python3.10/site-packages (from ipython->jupyterlab>=3) (4.4.2)\n",
      "Requirement already satisfied: MarkupSafe>=2.0 in /opt/conda/lib/python3.10/site-packages (from jinja2>=2.1->jupyterlab>=3) (2.1.2)\n",
      "Requirement already satisfied: platformdirs>=2.5 in /opt/conda/lib/python3.10/site-packages (from jupyter-core->jupyterlab>=3) (3.2.0)\n",
      "Requirement already satisfied: anyio>=3.1.0 in /opt/conda/lib/python3.10/site-packages (from jupyter-server<3,>=1.16.0->jupyterlab>=3) (3.6.2)\n",
      "Requirement already satisfied: terminado>=0.8.3 in /opt/conda/lib/python3.10/site-packages (from jupyter-server<3,>=1.16.0->jupyterlab>=3) (0.17.1)\n",
      "Requirement already satisfied: websocket-client in /opt/conda/lib/python3.10/site-packages (from jupyter-server<3,>=1.16.0->jupyterlab>=3) (1.5.1)\n",
      "Requirement already satisfied: jupyter-events>=0.4.0 in /opt/conda/lib/python3.10/site-packages (from jupyter-server<3,>=1.16.0->jupyterlab>=3) (0.6.3)\n",
      "Requirement already satisfied: send2trash in /opt/conda/lib/python3.10/site-packages (from jupyter-server<3,>=1.16.0->jupyterlab>=3) (1.8.0)\n",
      "Requirement already satisfied: argon2-cffi in /opt/conda/lib/python3.10/site-packages (from jupyter-server<3,>=1.16.0->jupyterlab>=3) (21.3.0)\n",
      "Requirement already satisfied: prometheus-client in /opt/conda/lib/python3.10/site-packages (from jupyter-server<3,>=1.16.0->jupyterlab>=3) (0.16.0)\n",
      "Requirement already satisfied: nbformat>=5.3.0 in /opt/conda/lib/python3.10/site-packages (from jupyter-server<3,>=1.16.0->jupyterlab>=3) (5.8.0)\n",
      "Requirement already satisfied: jupyter-server-terminals in /opt/conda/lib/python3.10/site-packages (from jupyter-server<3,>=1.16.0->jupyterlab>=3) (0.4.4)\n",
      "Requirement already satisfied: nbconvert>=6.4.4 in /opt/conda/lib/python3.10/site-packages (from jupyter-server<3,>=1.16.0->jupyterlab>=3) (7.3.1)\n",
      "Requirement already satisfied: ypy-websocket<0.9.0,>=0.8.2 in /opt/conda/lib/python3.10/site-packages (from jupyter-server-ydoc~=0.8.0->jupyterlab>=3) (0.8.2)\n",
      "Requirement already satisfied: jupyter-server-fileid<1,>=0.6.0 in /opt/conda/lib/python3.10/site-packages (from jupyter-server-ydoc~=0.8.0->jupyterlab>=3) (0.9.0)\n",
      "Requirement already satisfied: y-py<0.6.0,>=0.5.3 in /opt/conda/lib/python3.10/site-packages (from jupyter-ydoc~=0.2.3->jupyterlab>=3) (0.5.9)\n",
      "Requirement already satisfied: json5>=0.9.0 in /opt/conda/lib/python3.10/site-packages (from jupyterlab-server~=2.19->jupyterlab>=3) (0.9.5)\n",
      "Requirement already satisfied: jsonschema>=4.17.3 in /opt/conda/lib/python3.10/site-packages (from jupyterlab-server~=2.19->jupyterlab>=3) (4.17.3)\n",
      "Requirement already satisfied: babel>=2.10 in /opt/conda/lib/python3.10/site-packages (from jupyterlab-server~=2.19->jupyterlab>=3) (2.12.1)\n",
      "Requirement already satisfied: requests>=2.28 in /opt/conda/lib/python3.10/site-packages (from jupyterlab-server~=2.19->jupyterlab>=3) (2.28.2)\n",
      "Requirement already satisfied: ipython-genutils in /opt/conda/lib/python3.10/site-packages (from notebook<7->jupyterlab>=3) (0.2.0)\n",
      "Requirement already satisfied: notebook-shim>=0.1.0 in /opt/conda/lib/python3.10/site-packages (from nbclassic->jupyterlab>=3) (0.2.2)\n",
      "Requirement already satisfied: idna>=2.8 in /opt/conda/lib/python3.10/site-packages (from anyio>=3.1.0->jupyter-server<3,>=1.16.0->jupyterlab>=3) (3.4)\n",
      "Requirement already satisfied: sniffio>=1.1 in /opt/conda/lib/python3.10/site-packages (from anyio>=3.1.0->jupyter-server<3,>=1.16.0->jupyterlab>=3) (1.3.0)\n",
      "Requirement already satisfied: parso<0.9.0,>=0.8.0 in /opt/conda/lib/python3.10/site-packages (from jedi>=0.16->ipython->jupyterlab>=3) (0.8.3)\n",
      "Requirement already satisfied: attrs>=17.4.0 in /opt/conda/lib/python3.10/site-packages (from jsonschema>=4.17.3->jupyterlab-server~=2.19->jupyterlab>=3) (22.2.0)\n",
      "Requirement already satisfied: pyrsistent!=0.17.0,!=0.17.1,!=0.17.2,>=0.14.0 in /opt/conda/lib/python3.10/site-packages (from jsonschema>=4.17.3->jupyterlab-server~=2.19->jupyterlab>=3) (0.19.3)\n",
      "Requirement already satisfied: python-dateutil>=2.8.2 in /opt/conda/lib/python3.10/site-packages (from jupyter-client>=6.1.12->ipykernel>=4.5.1->ipywidgets>=7.6) (2.8.2)\n",
      "Requirement already satisfied: python-json-logger>=2.0.4 in /opt/conda/lib/python3.10/site-packages (from jupyter-events>=0.4.0->jupyter-server<3,>=1.16.0->jupyterlab>=3) (2.0.7)\n",
      "Requirement already satisfied: rfc3339-validator in /opt/conda/lib/python3.10/site-packages (from jupyter-events>=0.4.0->jupyter-server<3,>=1.16.0->jupyterlab>=3) (0.1.4)\n",
      "Requirement already satisfied: pyyaml>=5.3 in /opt/conda/lib/python3.10/site-packages (from jupyter-events>=0.4.0->jupyter-server<3,>=1.16.0->jupyterlab>=3) (6.0)\n",
      "Requirement already satisfied: rfc3986-validator>=0.1.1 in /opt/conda/lib/python3.10/site-packages (from jupyter-events>=0.4.0->jupyter-server<3,>=1.16.0->jupyterlab>=3) (0.1.1)\n",
      "Requirement already satisfied: mistune<3,>=2.0.3 in /opt/conda/lib/python3.10/site-packages (from nbconvert>=6.4.4->jupyter-server<3,>=1.16.0->jupyterlab>=3) (2.0.5)\n",
      "Requirement already satisfied: pandocfilters>=1.4.1 in /opt/conda/lib/python3.10/site-packages (from nbconvert>=6.4.4->jupyter-server<3,>=1.16.0->jupyterlab>=3) (1.5.0)\n",
      "Requirement already satisfied: beautifulsoup4 in /opt/conda/lib/python3.10/site-packages (from nbconvert>=6.4.4->jupyter-server<3,>=1.16.0->jupyterlab>=3) (4.12.2)\n",
      "Requirement already satisfied: nbclient>=0.5.0 in /opt/conda/lib/python3.10/site-packages (from nbconvert>=6.4.4->jupyter-server<3,>=1.16.0->jupyterlab>=3) (0.7.3)\n",
      "Requirement already satisfied: defusedxml in /opt/conda/lib/python3.10/site-packages (from nbconvert>=6.4.4->jupyter-server<3,>=1.16.0->jupyterlab>=3) (0.7.1)\n",
      "Requirement already satisfied: jupyterlab-pygments in /opt/conda/lib/python3.10/site-packages (from nbconvert>=6.4.4->jupyter-server<3,>=1.16.0->jupyterlab>=3) (0.2.2)\n",
      "Requirement already satisfied: bleach in /opt/conda/lib/python3.10/site-packages (from nbconvert>=6.4.4->jupyter-server<3,>=1.16.0->jupyterlab>=3) (6.0.0)\n",
      "Requirement already satisfied: tinycss2 in /opt/conda/lib/python3.10/site-packages (from nbconvert>=6.4.4->jupyter-server<3,>=1.16.0->jupyterlab>=3) (1.2.1)\n",
      "Requirement already satisfied: fastjsonschema in /opt/conda/lib/python3.10/site-packages (from nbformat>=5.3.0->jupyter-server<3,>=1.16.0->jupyterlab>=3) (2.16.3)\n",
      "Requirement already satisfied: ptyprocess>=0.5 in /opt/conda/lib/python3.10/site-packages (from pexpect>4.3->ipython->jupyterlab>=3) (0.7.0)\n",
      "Requirement already satisfied: wcwidth in /opt/conda/lib/python3.10/site-packages (from prompt-toolkit!=3.0.37,<3.1.0,>=3.0.30->ipython->jupyterlab>=3) (0.2.6)\n",
      "Requirement already satisfied: charset-normalizer<4,>=2 in /opt/conda/lib/python3.10/site-packages (from requests>=2.28->jupyterlab-server~=2.19->jupyterlab>=3) (3.1.0)\n",
      "Requirement already satisfied: urllib3<1.27,>=1.21.1 in /opt/conda/lib/python3.10/site-packages (from requests>=2.28->jupyterlab-server~=2.19->jupyterlab>=3) (1.26.15)\n",
      "Requirement already satisfied: certifi>=2017.4.17 in /opt/conda/lib/python3.10/site-packages (from requests>=2.28->jupyterlab-server~=2.19->jupyterlab>=3) (2022.12.7)\n",
      "Requirement already satisfied: aiofiles<23,>=22.1.0 in /opt/conda/lib/python3.10/site-packages (from ypy-websocket<0.9.0,>=0.8.2->jupyter-server-ydoc~=0.8.0->jupyterlab>=3) (22.1.0)\n",
      "Requirement already satisfied: aiosqlite<1,>=0.17.0 in /opt/conda/lib/python3.10/site-packages (from ypy-websocket<0.9.0,>=0.8.2->jupyter-server-ydoc~=0.8.0->jupyterlab>=3) (0.18.0)\n",
      "Requirement already satisfied: argon2-cffi-bindings in /opt/conda/lib/python3.10/site-packages (from argon2-cffi->jupyter-server<3,>=1.16.0->jupyterlab>=3) (21.2.0)\n",
      "Requirement already satisfied: asttokens>=2.1.0 in /opt/conda/lib/python3.10/site-packages (from stack-data->ipython->jupyterlab>=3) (2.2.1)\n",
      "Requirement already satisfied: executing>=1.2.0 in /opt/conda/lib/python3.10/site-packages (from stack-data->ipython->jupyterlab>=3) (1.2.0)\n",
      "Requirement already satisfied: pure-eval in /opt/conda/lib/python3.10/site-packages (from stack-data->ipython->jupyterlab>=3) (0.2.2)\n",
      "Requirement already satisfied: six in /opt/conda/lib/python3.10/site-packages (from asttokens>=2.1.0->stack-data->ipython->jupyterlab>=3) (1.16.0)\n",
      "Requirement already satisfied: webcolors>=1.11 in /opt/conda/lib/python3.10/site-packages (from jsonschema>=4.17.3->jupyterlab-server~=2.19->jupyterlab>=3) (1.13)\n",
      "Requirement already satisfied: jsonpointer>1.13 in /opt/conda/lib/python3.10/site-packages (from jsonschema>=4.17.3->jupyterlab-server~=2.19->jupyterlab>=3) (2.0)\n",
      "Requirement already satisfied: uri-template in /opt/conda/lib/python3.10/site-packages (from jsonschema>=4.17.3->jupyterlab-server~=2.19->jupyterlab>=3) (1.2.0)\n",
      "Requirement already satisfied: fqdn in /opt/conda/lib/python3.10/site-packages (from jsonschema>=4.17.3->jupyterlab-server~=2.19->jupyterlab>=3) (1.5.1)\n",
      "Requirement already satisfied: isoduration in /opt/conda/lib/python3.10/site-packages (from jsonschema>=4.17.3->jupyterlab-server~=2.19->jupyterlab>=3) (20.11.0)\n",
      "Requirement already satisfied: cffi>=1.0.1 in /opt/conda/lib/python3.10/site-packages (from argon2-cffi-bindings->argon2-cffi->jupyter-server<3,>=1.16.0->jupyterlab>=3) (1.15.1)\n",
      "Requirement already satisfied: soupsieve>1.2 in /opt/conda/lib/python3.10/site-packages (from beautifulsoup4->nbconvert>=6.4.4->jupyter-server<3,>=1.16.0->jupyterlab>=3) (2.3.2.post1)\n",
      "Requirement already satisfied: webencodings in /opt/conda/lib/python3.10/site-packages (from bleach->nbconvert>=6.4.4->jupyter-server<3,>=1.16.0->jupyterlab>=3) (0.5.1)\n",
      "Requirement already satisfied: pycparser in /opt/conda/lib/python3.10/site-packages (from cffi>=1.0.1->argon2-cffi-bindings->argon2-cffi->jupyter-server<3,>=1.16.0->jupyterlab>=3) (2.21)\n",
      "Requirement already satisfied: arrow>=0.15.0 in /opt/conda/lib/python3.10/site-packages (from isoduration->jsonschema>=4.17.3->jupyterlab-server~=2.19->jupyterlab>=3) (1.2.3)\n",
      "Requirement already satisfied: jupyter-dash in /opt/conda/lib/python3.10/site-packages (0.4.2)\n",
      "Requirement already satisfied: dash in /opt/conda/lib/python3.10/site-packages (from jupyter-dash) (2.10.2)\n",
      "Requirement already satisfied: retrying in /opt/conda/lib/python3.10/site-packages (from jupyter-dash) (1.3.4)\n",
      "Requirement already satisfied: flask in /opt/conda/lib/python3.10/site-packages (from jupyter-dash) (2.2.5)\n",
      "Requirement already satisfied: ipykernel in /opt/conda/lib/python3.10/site-packages (from jupyter-dash) (6.22.0)\n",
      "Requirement already satisfied: ansi2html in /opt/conda/lib/python3.10/site-packages (from jupyter-dash) (1.8.0)\n",
      "Requirement already satisfied: nest-asyncio in /opt/conda/lib/python3.10/site-packages (from jupyter-dash) (1.5.6)\n",
      "Requirement already satisfied: ipython in /opt/conda/lib/python3.10/site-packages (from jupyter-dash) (8.12.0)\n",
      "Requirement already satisfied: requests in /opt/conda/lib/python3.10/site-packages (from jupyter-dash) (2.28.2)\n",
      "Requirement already satisfied: Werkzeug<2.3.0 in /opt/conda/lib/python3.10/site-packages (from dash->jupyter-dash) (2.2.3)\n",
      "Requirement already satisfied: dash-table==5.0.0 in /opt/conda/lib/python3.10/site-packages (from dash->jupyter-dash) (5.0.0)\n",
      "Requirement already satisfied: dash-core-components==2.0.0 in /opt/conda/lib/python3.10/site-packages (from dash->jupyter-dash) (2.0.0)\n",
      "Requirement already satisfied: plotly>=5.0.0 in /opt/conda/lib/python3.10/site-packages (from dash->jupyter-dash) (5.14.1)\n",
      "Requirement already satisfied: dash-html-components==2.0.0 in /opt/conda/lib/python3.10/site-packages (from dash->jupyter-dash) (2.0.0)\n",
      "Requirement already satisfied: Jinja2>=3.0 in /opt/conda/lib/python3.10/site-packages (from flask->jupyter-dash) (3.1.2)\n",
      "Requirement already satisfied: itsdangerous>=2.0 in /opt/conda/lib/python3.10/site-packages (from flask->jupyter-dash) (2.1.2)\n",
      "Requirement already satisfied: click>=8.0 in /opt/conda/lib/python3.10/site-packages (from flask->jupyter-dash) (8.1.3)\n",
      "Requirement already satisfied: debugpy>=1.6.5 in /opt/conda/lib/python3.10/site-packages (from ipykernel->jupyter-dash) (1.6.7)\n",
      "Requirement already satisfied: pyzmq>=20 in /opt/conda/lib/python3.10/site-packages (from ipykernel->jupyter-dash) (25.0.2)\n",
      "Requirement already satisfied: packaging in /opt/conda/lib/python3.10/site-packages (from ipykernel->jupyter-dash) (23.1)\n",
      "Requirement already satisfied: matplotlib-inline>=0.1 in /opt/conda/lib/python3.10/site-packages (from ipykernel->jupyter-dash) (0.1.6)\n",
      "Requirement already satisfied: traitlets>=5.4.0 in /opt/conda/lib/python3.10/site-packages (from ipykernel->jupyter-dash) (5.9.0)\n",
      "Requirement already satisfied: tornado>=6.1 in /opt/conda/lib/python3.10/site-packages (from ipykernel->jupyter-dash) (6.2)\n",
      "Requirement already satisfied: jupyter-client>=6.1.12 in /opt/conda/lib/python3.10/site-packages (from ipykernel->jupyter-dash) (8.2.0)\n",
      "Requirement already satisfied: psutil in /opt/conda/lib/python3.10/site-packages (from ipykernel->jupyter-dash) (5.9.4)\n",
      "Requirement already satisfied: comm>=0.1.1 in /opt/conda/lib/python3.10/site-packages (from ipykernel->jupyter-dash) (0.1.3)\n",
      "Requirement already satisfied: jupyter-core!=5.0.*,>=4.12 in /opt/conda/lib/python3.10/site-packages (from ipykernel->jupyter-dash) (5.3.0)\n",
      "Requirement already satisfied: pickleshare in /opt/conda/lib/python3.10/site-packages (from ipython->jupyter-dash) (0.7.5)\n",
      "Requirement already satisfied: pexpect>4.3 in /opt/conda/lib/python3.10/site-packages (from ipython->jupyter-dash) (4.8.0)\n",
      "Requirement already satisfied: decorator in /opt/conda/lib/python3.10/site-packages (from ipython->jupyter-dash) (4.4.2)\n",
      "Requirement already satisfied: prompt-toolkit!=3.0.37,<3.1.0,>=3.0.30 in /opt/conda/lib/python3.10/site-packages (from ipython->jupyter-dash) (3.0.38)\n",
      "Requirement already satisfied: pygments>=2.4.0 in /opt/conda/lib/python3.10/site-packages (from ipython->jupyter-dash) (2.15.0)\n",
      "Requirement already satisfied: jedi>=0.16 in /opt/conda/lib/python3.10/site-packages (from ipython->jupyter-dash) (0.18.2)\n",
      "Requirement already satisfied: backcall in /opt/conda/lib/python3.10/site-packages (from ipython->jupyter-dash) (0.2.0)\n",
      "Requirement already satisfied: stack-data in /opt/conda/lib/python3.10/site-packages (from ipython->jupyter-dash) (0.6.2)\n",
      "Requirement already satisfied: urllib3<1.27,>=1.21.1 in /opt/conda/lib/python3.10/site-packages (from requests->jupyter-dash) (1.26.15)\n",
      "Requirement already satisfied: certifi>=2017.4.17 in /opt/conda/lib/python3.10/site-packages (from requests->jupyter-dash) (2022.12.7)\n",
      "Requirement already satisfied: idna<4,>=2.5 in /opt/conda/lib/python3.10/site-packages (from requests->jupyter-dash) (3.4)\n",
      "Requirement already satisfied: charset-normalizer<4,>=2 in /opt/conda/lib/python3.10/site-packages (from requests->jupyter-dash) (3.1.0)\n",
      "Requirement already satisfied: six>=1.7.0 in /opt/conda/lib/python3.10/site-packages (from retrying->jupyter-dash) (1.16.0)\n",
      "Requirement already satisfied: parso<0.9.0,>=0.8.0 in /opt/conda/lib/python3.10/site-packages (from jedi>=0.16->ipython->jupyter-dash) (0.8.3)\n",
      "Requirement already satisfied: MarkupSafe>=2.0 in /opt/conda/lib/python3.10/site-packages (from Jinja2>=3.0->flask->jupyter-dash) (2.1.2)\n",
      "Requirement already satisfied: python-dateutil>=2.8.2 in /opt/conda/lib/python3.10/site-packages (from jupyter-client>=6.1.12->ipykernel->jupyter-dash) (2.8.2)\n",
      "Requirement already satisfied: platformdirs>=2.5 in /opt/conda/lib/python3.10/site-packages (from jupyter-core!=5.0.*,>=4.12->ipykernel->jupyter-dash) (3.2.0)\n",
      "Requirement already satisfied: ptyprocess>=0.5 in /opt/conda/lib/python3.10/site-packages (from pexpect>4.3->ipython->jupyter-dash) (0.7.0)\n",
      "Requirement already satisfied: tenacity>=6.2.0 in /opt/conda/lib/python3.10/site-packages (from plotly>=5.0.0->dash->jupyter-dash) (8.2.2)\n",
      "Requirement already satisfied: wcwidth in /opt/conda/lib/python3.10/site-packages (from prompt-toolkit!=3.0.37,<3.1.0,>=3.0.30->ipython->jupyter-dash) (0.2.6)\n",
      "Requirement already satisfied: executing>=1.2.0 in /opt/conda/lib/python3.10/site-packages (from stack-data->ipython->jupyter-dash) (1.2.0)\n",
      "Requirement already satisfied: pure-eval in /opt/conda/lib/python3.10/site-packages (from stack-data->ipython->jupyter-dash) (0.2.2)\n",
      "Requirement already satisfied: asttokens>=2.1.0 in /opt/conda/lib/python3.10/site-packages (from stack-data->ipython->jupyter-dash) (2.2.1)\n",
      "Requirement already satisfied: kaleido in /opt/conda/lib/python3.10/site-packages (0.2.1)\n"
     ]
    }
   ],
   "source": [
    "!pip install plotly==5.14.1\n",
    "!pip install \"jupyterlab>=3\" \"ipywidgets>=7.6\"\n",
    "!pip install jupyter-dash\n",
    "!pip install -U kaleido"
   ]
  },
  {
   "cell_type": "code",
   "execution_count": 2,
   "metadata": {
    "tags": []
   },
   "outputs": [],
   "source": [
    "import numpy as np\n",
    "import pandas as pd\n",
    "import openpyxl as xl\n",
    "import FILibExcel\n",
    "import seaborn as sns\n",
    "import matplotlib.pyplot as plt"
   ]
  },
  {
   "cell_type": "markdown",
   "metadata": {
    "tags": []
   },
   "source": [
    "# Data Processing"
   ]
  },
  {
   "cell_type": "code",
   "execution_count": 3,
   "metadata": {
    "tags": []
   },
   "outputs": [],
   "source": [
    "excel_path = r\"../mock/titanium sols.xlsx\"\n",
    "artifacts_path = r\"../mock/soles_artifacts/first_dataset/\""
   ]
  },
  {
   "cell_type": "code",
   "execution_count": 4,
   "metadata": {
    "tags": []
   },
   "outputs": [
    {
     "name": "stdout",
     "output_type": "stream",
     "text": [
      "\n",
      "worksheet name: Sheet1\n",
      "tables in worksheet: 0\n",
      "\n",
      "worksheet name: Experiment_data\n",
      "tables in worksheet: 1\n",
      "table name: Table1\n",
      "\n",
      "worksheet name: Experiment_data_2\n",
      "tables in worksheet: 1\n",
      "table name: Table2\n"
     ]
    }
   ],
   "source": [
    "tables_dict = FILibExcel.get_all_tables(file_name=excel_path)\n",
    "df = tables_dict[\"Table1\"]['dataframe']\n",
    "df = df.fillna(value=0)"
   ]
  },
  {
   "cell_type": "code",
   "execution_count": 5,
   "metadata": {
    "tags": []
   },
   "outputs": [
    {
     "data": {
      "text/plain": [
       "(71, 9)"
      ]
     },
     "execution_count": 5,
     "metadata": {},
     "output_type": "execute_result"
    }
   ],
   "source": [
    "df.shape"
   ]
  },
  {
   "cell_type": "code",
   "execution_count": 6,
   "metadata": {
    "tags": []
   },
   "outputs": [
    {
     "data": {
      "text/html": [
       "<div>\n",
       "<style scoped>\n",
       "    .dataframe tbody tr th:only-of-type {\n",
       "        vertical-align: middle;\n",
       "    }\n",
       "\n",
       "    .dataframe tbody tr th {\n",
       "        vertical-align: top;\n",
       "    }\n",
       "\n",
       "    .dataframe thead th {\n",
       "        text-align: right;\n",
       "    }\n",
       "</style>\n",
       "<table border=\"1\" class=\"dataframe\">\n",
       "  <thead>\n",
       "    <tr style=\"text-align: right;\">\n",
       "      <th></th>\n",
       "      <th>Composition mixtures</th>\n",
       "      <th>t, °С</th>\n",
       "      <th>t, min</th>\n",
       "      <th>с(acid), mol/l</th>\n",
       "      <th>с(Ti4+), mol/l</th>\n",
       "      <th>ultrasound</th>\n",
       "      <th>d, nm</th>\n",
       "      <th>Contents, %</th>\n",
       "      <th>Stability of sols, days</th>\n",
       "    </tr>\n",
       "  </thead>\n",
       "  <tbody>\n",
       "    <tr>\n",
       "      <th>0</th>\n",
       "      <td>H2O + HNO3 + TiIPO + ButOH</td>\n",
       "      <td>45</td>\n",
       "      <td>60</td>\n",
       "      <td>4</td>\n",
       "      <td>0.5</td>\n",
       "      <td>0</td>\n",
       "      <td>618.5</td>\n",
       "      <td>100.0</td>\n",
       "      <td>16</td>\n",
       "    </tr>\n",
       "    <tr>\n",
       "      <th>1</th>\n",
       "      <td>H2O + HNO3 + TiIPO + ButOH</td>\n",
       "      <td>80</td>\n",
       "      <td>10</td>\n",
       "      <td>4</td>\n",
       "      <td>0.5</td>\n",
       "      <td>0</td>\n",
       "      <td>978.1</td>\n",
       "      <td>100.0</td>\n",
       "      <td>16</td>\n",
       "    </tr>\n",
       "    <tr>\n",
       "      <th>2</th>\n",
       "      <td>H2O + HNO3 + TiIPO + ButOH</td>\n",
       "      <td>45</td>\n",
       "      <td>20</td>\n",
       "      <td>4</td>\n",
       "      <td>0.5</td>\n",
       "      <td>0</td>\n",
       "      <td>2.0</td>\n",
       "      <td>100.0</td>\n",
       "      <td>90</td>\n",
       "    </tr>\n",
       "    <tr>\n",
       "      <th>3</th>\n",
       "      <td>H2O + HNO3 + TiIPO + ButOH</td>\n",
       "      <td>45</td>\n",
       "      <td>20</td>\n",
       "      <td>4</td>\n",
       "      <td>0.47</td>\n",
       "      <td>0</td>\n",
       "      <td>2.628</td>\n",
       "      <td>100.0</td>\n",
       "      <td>60</td>\n",
       "    </tr>\n",
       "    <tr>\n",
       "      <th>4</th>\n",
       "      <td>H2O + HNO3 + TiIPO + IPOОН</td>\n",
       "      <td>50</td>\n",
       "      <td>20</td>\n",
       "      <td>4</td>\n",
       "      <td>0.2</td>\n",
       "      <td>0</td>\n",
       "      <td>1712</td>\n",
       "      <td>100.0</td>\n",
       "      <td>16</td>\n",
       "    </tr>\n",
       "  </tbody>\n",
       "</table>\n",
       "</div>"
      ],
      "text/plain": [
       "         Composition mixtures t, °С t, min с(acid), mol/l с(Ti4+), mol/l  \\\n",
       "0  H2O + HNO3 + TiIPO + ButOH    45     60              4            0.5   \n",
       "1  H2O + HNO3 + TiIPO + ButOH    80     10              4            0.5   \n",
       "2  H2O + HNO3 + TiIPO + ButOH    45     20              4            0.5   \n",
       "3  H2O + HNO3 + TiIPO + ButOH    45     20              4           0.47   \n",
       "4  H2O + HNO3 + TiIPO + IPOОН    50     20              4            0.2   \n",
       "\n",
       "  ultrasound   d, nm Contents, % Stability of sols, days  \n",
       "0           0  618.5       100.0                      16  \n",
       "1           0  978.1       100.0                      16  \n",
       "2           0    2.0       100.0                      90  \n",
       "3           0  2.628       100.0                      60  \n",
       "4           0   1712       100.0                      16  "
      ]
     },
     "execution_count": 6,
     "metadata": {},
     "output_type": "execute_result"
    }
   ],
   "source": [
    "df.head()"
   ]
  },
  {
   "cell_type": "code",
   "execution_count": 7,
   "metadata": {
    "tags": []
   },
   "outputs": [
    {
     "data": {
      "text/html": [
       "<div>\n",
       "<style scoped>\n",
       "    .dataframe tbody tr th:only-of-type {\n",
       "        vertical-align: middle;\n",
       "    }\n",
       "\n",
       "    .dataframe tbody tr th {\n",
       "        vertical-align: top;\n",
       "    }\n",
       "\n",
       "    .dataframe thead th {\n",
       "        text-align: right;\n",
       "    }\n",
       "</style>\n",
       "<table border=\"1\" class=\"dataframe\">\n",
       "  <thead>\n",
       "    <tr style=\"text-align: right;\">\n",
       "      <th></th>\n",
       "      <th>count</th>\n",
       "      <th>mean</th>\n",
       "      <th>std</th>\n",
       "      <th>min</th>\n",
       "      <th>25%</th>\n",
       "      <th>50%</th>\n",
       "      <th>75%</th>\n",
       "      <th>max</th>\n",
       "    </tr>\n",
       "  </thead>\n",
       "  <tbody>\n",
       "    <tr>\n",
       "      <th>t, °С</th>\n",
       "      <td>71.0</td>\n",
       "      <td>62.619718</td>\n",
       "      <td>19.485061</td>\n",
       "      <td>20.00</td>\n",
       "      <td>45.0000</td>\n",
       "      <td>71.000</td>\n",
       "      <td>80.00</td>\n",
       "      <td>93.00</td>\n",
       "    </tr>\n",
       "    <tr>\n",
       "      <th>t, min</th>\n",
       "      <td>71.0</td>\n",
       "      <td>30.633803</td>\n",
       "      <td>30.194720</td>\n",
       "      <td>8.00</td>\n",
       "      <td>11.0000</td>\n",
       "      <td>12.000</td>\n",
       "      <td>57.00</td>\n",
       "      <td>130.00</td>\n",
       "    </tr>\n",
       "    <tr>\n",
       "      <th>с(acid), mol/l</th>\n",
       "      <td>71.0</td>\n",
       "      <td>0.919155</td>\n",
       "      <td>1.468489</td>\n",
       "      <td>0.10</td>\n",
       "      <td>0.1000</td>\n",
       "      <td>0.100</td>\n",
       "      <td>0.53</td>\n",
       "      <td>4.00</td>\n",
       "    </tr>\n",
       "    <tr>\n",
       "      <th>с(Ti4+), mol/l</th>\n",
       "      <td>71.0</td>\n",
       "      <td>0.427042</td>\n",
       "      <td>0.195115</td>\n",
       "      <td>0.14</td>\n",
       "      <td>0.2000</td>\n",
       "      <td>0.520</td>\n",
       "      <td>0.60</td>\n",
       "      <td>0.62</td>\n",
       "    </tr>\n",
       "    <tr>\n",
       "      <th>ultrasound</th>\n",
       "      <td>71.0</td>\n",
       "      <td>0.169014</td>\n",
       "      <td>0.413553</td>\n",
       "      <td>0.00</td>\n",
       "      <td>0.0000</td>\n",
       "      <td>0.000</td>\n",
       "      <td>0.00</td>\n",
       "      <td>1.50</td>\n",
       "    </tr>\n",
       "    <tr>\n",
       "      <th>d, nm</th>\n",
       "      <td>71.0</td>\n",
       "      <td>669.500366</td>\n",
       "      <td>897.495190</td>\n",
       "      <td>0.70</td>\n",
       "      <td>2.0495</td>\n",
       "      <td>2.763</td>\n",
       "      <td>2000.00</td>\n",
       "      <td>2159.00</td>\n",
       "    </tr>\n",
       "    <tr>\n",
       "      <th>Contents, %</th>\n",
       "      <td>71.0</td>\n",
       "      <td>97.030986</td>\n",
       "      <td>14.362984</td>\n",
       "      <td>0.50</td>\n",
       "      <td>100.0000</td>\n",
       "      <td>100.000</td>\n",
       "      <td>100.00</td>\n",
       "      <td>100.00</td>\n",
       "    </tr>\n",
       "    <tr>\n",
       "      <th>Stability of sols, days</th>\n",
       "      <td>71.0</td>\n",
       "      <td>25.577465</td>\n",
       "      <td>24.248807</td>\n",
       "      <td>0.00</td>\n",
       "      <td>2.0000</td>\n",
       "      <td>16.000</td>\n",
       "      <td>40.00</td>\n",
       "      <td>90.00</td>\n",
       "    </tr>\n",
       "  </tbody>\n",
       "</table>\n",
       "</div>"
      ],
      "text/plain": [
       "                         count        mean         std    min       25%  \\\n",
       "t, °С                     71.0   62.619718   19.485061  20.00   45.0000   \n",
       "t, min                    71.0   30.633803   30.194720   8.00   11.0000   \n",
       "с(acid), mol/l            71.0    0.919155    1.468489   0.10    0.1000   \n",
       "с(Ti4+), mol/l            71.0    0.427042    0.195115   0.14    0.2000   \n",
       "ultrasound                71.0    0.169014    0.413553   0.00    0.0000   \n",
       "d, nm                     71.0  669.500366  897.495190   0.70    2.0495   \n",
       "Contents, %               71.0   97.030986   14.362984   0.50  100.0000   \n",
       "Stability of sols, days   71.0   25.577465   24.248807   0.00    2.0000   \n",
       "\n",
       "                             50%      75%      max  \n",
       "t, °С                     71.000    80.00    93.00  \n",
       "t, min                    12.000    57.00   130.00  \n",
       "с(acid), mol/l             0.100     0.53     4.00  \n",
       "с(Ti4+), mol/l             0.520     0.60     0.62  \n",
       "ultrasound                 0.000     0.00     1.50  \n",
       "d, nm                      2.763  2000.00  2159.00  \n",
       "Contents, %              100.000   100.00   100.00  \n",
       "Stability of sols, days   16.000    40.00    90.00  "
      ]
     },
     "execution_count": 7,
     "metadata": {},
     "output_type": "execute_result"
    }
   ],
   "source": [
    "df.drop('Composition mixtures', axis=1).astype('float').describe().T"
   ]
  },
  {
   "cell_type": "code",
   "execution_count": 8,
   "metadata": {
    "tags": []
   },
   "outputs": [],
   "source": [
    "df = df.drop('Composition mixtures', axis=1).astype('float')"
   ]
  },
  {
   "cell_type": "code",
   "execution_count": 9,
   "metadata": {
    "tags": []
   },
   "outputs": [
    {
     "data": {
      "text/plain": [
       "t, °С                      float64\n",
       "t, min                     float64\n",
       "с(acid), mol/l             float64\n",
       "с(Ti4+), mol/l             float64\n",
       "ultrasound                 float64\n",
       "d, nm                      float64\n",
       "Contents, %                float64\n",
       "Stability of sols, days    float64\n",
       "dtype: object"
      ]
     },
     "execution_count": 9,
     "metadata": {},
     "output_type": "execute_result"
    }
   ],
   "source": [
    "df.dtypes"
   ]
  },
  {
   "cell_type": "code",
   "execution_count": 10,
   "metadata": {
    "tags": []
   },
   "outputs": [
    {
     "data": {
      "text/plain": [
       "<seaborn.axisgrid.FacetGrid at 0x7f917e32d660>"
      ]
     },
     "execution_count": 10,
     "metadata": {},
     "output_type": "execute_result"
    },
    {
     "data": {
      "image/png": "[encoded data removed]",
      "text/plain": [
       "<Figure size 500x500 with 1 Axes>"
      ]
     },
     "metadata": {},
     "output_type": "display_data"
    }
   ],
   "source": [
    "sns.displot(df['Stability of sols, days'])"
   ]
  },
  {
   "cell_type": "code",
   "execution_count": 11,
   "metadata": {
    "tags": []
   },
   "outputs": [],
   "source": [
    "X = df.drop(['Contents, %', 'd, nm', 'Stability of sols, days', 'ultrasound '], axis=1)\n",
    "y_days = df['Stability of sols, days']\n",
    "y_d = df['d, nm']\n",
    "y_content = df['Contents, %']"
   ]
  },
  {
   "cell_type": "code",
   "execution_count": 12,
   "metadata": {
    "tags": []
   },
   "outputs": [
    {
     "data": {
      "text/html": [
       "<div>\n",
       "<style scoped>\n",
       "    .dataframe tbody tr th:only-of-type {\n",
       "        vertical-align: middle;\n",
       "    }\n",
       "\n",
       "    .dataframe tbody tr th {\n",
       "        vertical-align: top;\n",
       "    }\n",
       "\n",
       "    .dataframe thead th {\n",
       "        text-align: right;\n",
       "    }\n",
       "</style>\n",
       "<table border=\"1\" class=\"dataframe\">\n",
       "  <thead>\n",
       "    <tr style=\"text-align: right;\">\n",
       "      <th></th>\n",
       "      <th>t, °С</th>\n",
       "      <th>t, min</th>\n",
       "      <th>с(acid), mol/l</th>\n",
       "      <th>с(Ti4+), mol/l</th>\n",
       "    </tr>\n",
       "  </thead>\n",
       "  <tbody>\n",
       "    <tr>\n",
       "      <th>0</th>\n",
       "      <td>45.0</td>\n",
       "      <td>60.0</td>\n",
       "      <td>4.0</td>\n",
       "      <td>0.50</td>\n",
       "    </tr>\n",
       "    <tr>\n",
       "      <th>1</th>\n",
       "      <td>80.0</td>\n",
       "      <td>10.0</td>\n",
       "      <td>4.0</td>\n",
       "      <td>0.50</td>\n",
       "    </tr>\n",
       "    <tr>\n",
       "      <th>2</th>\n",
       "      <td>45.0</td>\n",
       "      <td>20.0</td>\n",
       "      <td>4.0</td>\n",
       "      <td>0.50</td>\n",
       "    </tr>\n",
       "    <tr>\n",
       "      <th>3</th>\n",
       "      <td>45.0</td>\n",
       "      <td>20.0</td>\n",
       "      <td>4.0</td>\n",
       "      <td>0.47</td>\n",
       "    </tr>\n",
       "    <tr>\n",
       "      <th>4</th>\n",
       "      <td>50.0</td>\n",
       "      <td>20.0</td>\n",
       "      <td>4.0</td>\n",
       "      <td>0.20</td>\n",
       "    </tr>\n",
       "    <tr>\n",
       "      <th>...</th>\n",
       "      <td>...</td>\n",
       "      <td>...</td>\n",
       "      <td>...</td>\n",
       "      <td>...</td>\n",
       "    </tr>\n",
       "    <tr>\n",
       "      <th>66</th>\n",
       "      <td>70.0</td>\n",
       "      <td>12.0</td>\n",
       "      <td>0.1</td>\n",
       "      <td>0.62</td>\n",
       "    </tr>\n",
       "    <tr>\n",
       "      <th>67</th>\n",
       "      <td>70.0</td>\n",
       "      <td>12.0</td>\n",
       "      <td>0.1</td>\n",
       "      <td>0.59</td>\n",
       "    </tr>\n",
       "    <tr>\n",
       "      <th>68</th>\n",
       "      <td>70.0</td>\n",
       "      <td>12.0</td>\n",
       "      <td>0.1</td>\n",
       "      <td>0.55</td>\n",
       "    </tr>\n",
       "    <tr>\n",
       "      <th>69</th>\n",
       "      <td>70.0</td>\n",
       "      <td>12.0</td>\n",
       "      <td>0.1</td>\n",
       "      <td>0.52</td>\n",
       "    </tr>\n",
       "    <tr>\n",
       "      <th>70</th>\n",
       "      <td>80.0</td>\n",
       "      <td>8.0</td>\n",
       "      <td>0.1</td>\n",
       "      <td>0.60</td>\n",
       "    </tr>\n",
       "  </tbody>\n",
       "</table>\n",
       "<p>71 rows × 4 columns</p>\n",
       "</div>"
      ],
      "text/plain": [
       "    t, °С  t, min  с(acid), mol/l  с(Ti4+), mol/l\n",
       "0    45.0    60.0             4.0            0.50\n",
       "1    80.0    10.0             4.0            0.50\n",
       "2    45.0    20.0             4.0            0.50\n",
       "3    45.0    20.0             4.0            0.47\n",
       "4    50.0    20.0             4.0            0.20\n",
       "..    ...     ...             ...             ...\n",
       "66   70.0    12.0             0.1            0.62\n",
       "67   70.0    12.0             0.1            0.59\n",
       "68   70.0    12.0             0.1            0.55\n",
       "69   70.0    12.0             0.1            0.52\n",
       "70   80.0     8.0             0.1            0.60\n",
       "\n",
       "[71 rows x 4 columns]"
      ]
     },
     "execution_count": 12,
     "metadata": {},
     "output_type": "execute_result"
    }
   ],
   "source": [
    "X"
   ]
  },
  {
   "cell_type": "markdown",
   "metadata": {
    "tags": []
   },
   "source": [
    "# Linear regression for coafitionts predictions"
   ]
  },
  {
   "cell_type": "code",
   "execution_count": 13,
   "metadata": {
    "tags": []
   },
   "outputs": [
    {
     "name": "stdout",
     "output_type": "stream",
     "text": [
      "-14.579583761187346\n",
      "{'fit_intercept': False}\n",
      "[-0.22255045 -0.12409522  6.46084839 87.510192  ]\n"
     ]
    }
   ],
   "source": [
    "from sklearn.linear_model import LinearRegression\n",
    "from sklearn.model_selection import GridSearchCV\n",
    "\n",
    "parameters = {'fit_intercept': [True, False]}\n",
    "\n",
    "model = LinearRegression()\n",
    "clf = GridSearchCV(\n",
    "    model, \n",
    "    parameters, \n",
    "    cv=5, \n",
    "    scoring='neg_mean_absolute_error',\n",
    "    refit=True,\n",
    "    n_jobs=-1)\n",
    "clf.fit(X, y_days)\n",
    "best_linear_regression_days = clf.best_estimator_\n",
    "print(clf.best_score_)\n",
    "print(clf.best_params_)\n",
    "print(best_linear_regression_days.coef_)"
   ]
  },
  {
   "cell_type": "code",
   "execution_count": 14,
   "metadata": {
    "tags": []
   },
   "outputs": [
    {
     "name": "stdout",
     "output_type": "stream",
     "text": [
      "-369.42497482774974\n",
      "{'fit_intercept': True}\n",
      "[ -10.22916906 -239.54262288 -131.75458639 -908.77443277]\n"
     ]
    }
   ],
   "source": [
    "from sklearn.linear_model import LinearRegression\n",
    "from sklearn.model_selection import GridSearchCV\n",
    "from sklearn.preprocessing import StandardScaler\n",
    "from sklearn.pipeline import make_pipeline\n",
    "\n",
    "parameters = {'fit_intercept': [True, False]}\n",
    "\n",
    "model = LinearRegression()\n",
    "clf = GridSearchCV(\n",
    "    model, \n",
    "    parameters, \n",
    "    cv=5, \n",
    "    scoring='neg_mean_absolute_error',\n",
    "    refit=True,\n",
    "    n_jobs=-1)\n",
    "pipe = make_pipeline(StandardScaler(), clf)\n",
    "pipe.fit(X, y_d)\n",
    "best_linear_regression_d = clf.best_estimator_\n",
    "print(clf.best_score_)\n",
    "print(clf.best_params_)\n",
    "print(best_linear_regression_d.coef_)"
   ]
  },
  {
   "cell_type": "code",
   "execution_count": 15,
   "metadata": {
    "tags": []
   },
   "outputs": [
    {
     "name": "stdout",
     "output_type": "stream",
     "text": [
      "-7.402350072941142\n",
      "{'fit_intercept': True}\n",
      "[ -0.12629949  -0.28033645  -2.57628363 -17.31077647]\n"
     ]
    }
   ],
   "source": [
    "from sklearn.linear_model import LinearRegression\n",
    "from sklearn.model_selection import GridSearchCV\n",
    "\n",
    "parameters = {'fit_intercept': [True, False]}\n",
    "\n",
    "model = LinearRegression()\n",
    "clf = GridSearchCV(\n",
    "    model, \n",
    "    parameters, \n",
    "    cv=5, \n",
    "    scoring='neg_mean_absolute_error',\n",
    "    refit=True,\n",
    "    n_jobs=-1)\n",
    "clf.fit(X, y_content)\n",
    "best_linear_regression_content = clf.best_estimator_\n",
    "print(clf.best_score_)\n",
    "print(clf.best_params_)\n",
    "print(best_linear_regression_content.coef_)"
   ]
  },
  {
   "cell_type": "markdown",
   "metadata": {
    "tags": []
   },
   "source": [
    "# Optimisation with NSGA2 algorithm"
   ]
  },
  {
   "cell_type": "code",
   "execution_count": 16,
   "metadata": {
    "tags": []
   },
   "outputs": [
    {
     "name": "stdout",
     "output_type": "stream",
     "text": [
      "Requirement already satisfied: pymoo in /opt/conda/lib/python3.10/site-packages (0.6.0.1)\n",
      "Requirement already satisfied: autograd>=1.4 in /opt/conda/lib/python3.10/site-packages (from pymoo) (1.5)\n",
      "Requirement already satisfied: cma==3.2.2 in /opt/conda/lib/python3.10/site-packages (from pymoo) (3.2.2)\n",
      "Requirement already satisfied: numpy>=1.15 in /opt/conda/lib/python3.10/site-packages (from pymoo) (1.22.4)\n",
      "Requirement already satisfied: dill in /opt/conda/lib/python3.10/site-packages (from pymoo) (0.3.6)\n",
      "Requirement already satisfied: alive-progress in /opt/conda/lib/python3.10/site-packages (from pymoo) (3.1.4)\n",
      "Requirement already satisfied: Deprecated in /opt/conda/lib/python3.10/site-packages (from pymoo) (1.2.14)\n",
      "Requirement already satisfied: scipy>=1.1 in /opt/conda/lib/python3.10/site-packages (from pymoo) (1.10.1)\n",
      "Requirement already satisfied: matplotlib>=3 in /opt/conda/lib/python3.10/site-packages (from pymoo) (3.7.1)\n",
      "Requirement already satisfied: future>=0.15.2 in /opt/conda/lib/python3.10/site-packages (from autograd>=1.4->pymoo) (0.18.3)\n",
      "Requirement already satisfied: python-dateutil>=2.7 in /opt/conda/lib/python3.10/site-packages (from matplotlib>=3->pymoo) (2.8.2)\n",
      "Requirement already satisfied: cycler>=0.10 in /opt/conda/lib/python3.10/site-packages (from matplotlib>=3->pymoo) (0.11.0)\n",
      "Requirement already satisfied: fonttools>=4.22.0 in /opt/conda/lib/python3.10/site-packages (from matplotlib>=3->pymoo) (4.39.3)\n",
      "Requirement already satisfied: pillow>=6.2.0 in /opt/conda/lib/python3.10/site-packages (from matplotlib>=3->pymoo) (9.4.0)\n",
      "Requirement already satisfied: kiwisolver>=1.0.1 in /opt/conda/lib/python3.10/site-packages (from matplotlib>=3->pymoo) (1.4.4)\n",
      "Requirement already satisfied: pyparsing>=2.3.1 in /opt/conda/lib/python3.10/site-packages (from matplotlib>=3->pymoo) (3.0.9)\n",
      "Requirement already satisfied: contourpy>=1.0.1 in /opt/conda/lib/python3.10/site-packages (from matplotlib>=3->pymoo) (1.0.7)\n",
      "Requirement already satisfied: packaging>=20.0 in /opt/conda/lib/python3.10/site-packages (from matplotlib>=3->pymoo) (23.1)\n",
      "Requirement already satisfied: grapheme==0.6.0 in /opt/conda/lib/python3.10/site-packages (from alive-progress->pymoo) (0.6.0)\n",
      "Requirement already satisfied: about-time==4.2.1 in /opt/conda/lib/python3.10/site-packages (from alive-progress->pymoo) (4.2.1)\n",
      "Requirement already satisfied: wrapt<2,>=1.10 in /opt/conda/lib/python3.10/site-packages (from Deprecated->pymoo) (1.15.0)\n",
      "Requirement already satisfied: six>=1.5 in /opt/conda/lib/python3.10/site-packages (from python-dateutil>=2.7->matplotlib>=3->pymoo) (1.16.0)\n"
     ]
    }
   ],
   "source": [
    "!pip install -U pymoo"
   ]
  },
  {
   "cell_type": "code",
   "execution_count": 17,
   "metadata": {
    "tags": []
   },
   "outputs": [
    {
     "data": {
      "text/plain": [
       "array([  0.22255045,   0.12409522,  -6.46084839, -87.510192  ,\n",
       "        -0.        ])"
      ]
     },
     "execution_count": 17,
     "metadata": {},
     "output_type": "execute_result"
    }
   ],
   "source": [
    "-np.append(best_linear_regression_days.coef_, best_linear_regression_days.intercept_)"
   ]
  },
  {
   "cell_type": "code",
   "execution_count": 18,
   "metadata": {
    "tags": []
   },
   "outputs": [],
   "source": [
    "from pymoo.algorithms.moo.nsga2 import NSGA2\n",
    "from pymoo.core.problem import ElementwiseProblem\n",
    "from pymoo.optimize import minimize\n",
    "from pymoo.visualization.scatter import Scatter\n",
    "\n",
    "\n",
    "class SoleProblem(ElementwiseProblem):\n",
    "    def __init__(self, coefs):\n",
    "        self.coefs = coefs\n",
    "        super().__init__(n_var=4, n_obj=2, n_ieq_constr=2,\n",
    "                         xl=np.array([20, 1, 0.1, 0.14]),\n",
    "                         xu=np.array([80, 130, 4, 0.47]) )\n",
    "\n",
    "    def _evaluate(self, x, out, *args, **kwargs):\n",
    "        fs = []\n",
    "        gs = []\n",
    "        for coef in self.coefs:\n",
    "            f = coef[-1]\n",
    "            for i in range(0, len(coef) - 1):\n",
    "                f += x[i] * coef[i]    \n",
    "            fs.append(f)\n",
    "        out[\"F\"] = fs\n",
    "        out[\"G\"] = [fs[0], -fs[1] + 0.7]\n",
    "\n",
    "\n",
    "problem = SoleProblem(\n",
    "    [-np.append(best_linear_regression_days.coef_, best_linear_regression_days.intercept_),\n",
    "     np.append(best_linear_regression_d.coef_, best_linear_regression_d.intercept_)])\n",
    "\n",
    "algorithm = NSGA2(pop_size=100)\n",
    "\n",
    "res = minimize(problem,\n",
    "               algorithm,\n",
    "               (\"n_gen\", 500),\n",
    "               verbose=False,\n",
    "               seed=1)"
   ]
  },
  {
   "cell_type": "code",
   "execution_count": 19,
   "metadata": {
    "tags": []
   },
   "outputs": [],
   "source": [
    "import plotly.express as px\n",
    "F = res.F\n",
    "fig = px.scatter(x=-F[:, 0], y=F[:, 1], labels={\"x\": \"Stability of sols, days\", \"y\": \"d, nm\"})\n",
    "fig.write_html(artifacts_path + 'first_figure.html', auto_open=True)\n",
    "fig.write_image(artifacts_path + 'optimal.png')"
   ]
  },
  {
   "cell_type": "code",
   "execution_count": 20,
   "metadata": {
    "tags": []
   },
   "outputs": [
    {
     "name": "stdout",
     "output_type": "stream",
     "text": [
      "For getting stability days = 16.393 and diameter = 0.7 use:\n",
      "\ttemperature = 20.0\n",
      "\ttime = 1.0\n",
      "\tc(acid) = 0.107\n",
      "\tc(Ti) = 0.232\n",
      "For getting stability days = 16.393 and diameter = 0.7 use:\n",
      "\ttemperature = 20.0\n",
      "\ttime = 1.0\n",
      "\tc(acid) = 0.107\n",
      "\tc(Ti) = 0.232\n",
      "For getting stability days = 16.393 and diameter = 0.7 use:\n",
      "\ttemperature = 20.0\n",
      "\ttime = 1.0\n",
      "\tc(acid) = 0.107\n",
      "\tc(Ti) = 0.232\n",
      "For getting stability days = 16.393 and diameter = 0.7 use:\n",
      "\ttemperature = 20.0\n",
      "\ttime = 1.0\n",
      "\tc(acid) = 0.107\n",
      "\tc(Ti) = 0.232\n",
      "For getting stability days = 16.393 and diameter = 0.7 use:\n",
      "\ttemperature = 20.0\n",
      "\ttime = 1.0\n",
      "\tc(acid) = 0.107\n",
      "\tc(Ti) = 0.232\n",
      "For getting stability days = 16.393 and diameter = 0.7 use:\n",
      "\ttemperature = 20.0\n",
      "\ttime = 1.0\n",
      "\tc(acid) = 0.107\n",
      "\tc(Ti) = 0.232\n",
      "For getting stability days = 16.393 and diameter = 0.7 use:\n",
      "\ttemperature = 20.0\n",
      "\ttime = 1.0\n",
      "\tc(acid) = 0.107\n",
      "\tc(Ti) = 0.232\n",
      "For getting stability days = 16.393 and diameter = 0.7 use:\n",
      "\ttemperature = 20.0\n",
      "\ttime = 1.0\n",
      "\tc(acid) = 0.107\n",
      "\tc(Ti) = 0.232\n",
      "For getting stability days = 16.393 and diameter = 0.7 use:\n",
      "\ttemperature = 20.0\n",
      "\ttime = 1.0\n",
      "\tc(acid) = 0.107\n",
      "\tc(Ti) = 0.232\n",
      "For getting stability days = 16.393 and diameter = 0.7 use:\n",
      "\ttemperature = 20.0\n",
      "\ttime = 1.0\n",
      "\tc(acid) = 0.107\n",
      "\tc(Ti) = 0.232\n",
      "For getting stability days = 16.414 and diameter = 0.7 use:\n",
      "\ttemperature = 20.0\n",
      "\ttime = 1.0\n",
      "\tc(acid) = 0.104\n",
      "\tc(Ti) = 0.232\n",
      "For getting stability days = 16.393 and diameter = 0.7 use:\n",
      "\ttemperature = 20.0\n",
      "\ttime = 1.0\n",
      "\tc(acid) = 0.107\n",
      "\tc(Ti) = 0.232\n",
      "For getting stability days = 16.393 and diameter = 0.7 use:\n",
      "\ttemperature = 20.0\n",
      "\ttime = 1.0\n",
      "\tc(acid) = 0.107\n",
      "\tc(Ti) = 0.232\n",
      "For getting stability days = 16.393 and diameter = 0.7 use:\n",
      "\ttemperature = 20.0\n",
      "\ttime = 1.0\n",
      "\tc(acid) = 0.107\n",
      "\tc(Ti) = 0.232\n",
      "For getting stability days = 16.393 and diameter = 0.7 use:\n",
      "\ttemperature = 20.0\n",
      "\ttime = 1.0\n",
      "\tc(acid) = 0.107\n",
      "\tc(Ti) = 0.232\n",
      "For getting stability days = 16.427 and diameter = 0.7 use:\n",
      "\ttemperature = 20.0\n",
      "\ttime = 1.0\n",
      "\tc(acid) = 0.102\n",
      "\tc(Ti) = 0.233\n",
      "For getting stability days = 16.427 and diameter = 0.7 use:\n",
      "\ttemperature = 20.0\n",
      "\ttime = 1.0\n",
      "\tc(acid) = 0.102\n",
      "\tc(Ti) = 0.233\n",
      "For getting stability days = 16.393 and diameter = 0.7 use:\n",
      "\ttemperature = 20.0\n",
      "\ttime = 1.0\n",
      "\tc(acid) = 0.107\n",
      "\tc(Ti) = 0.232\n",
      "For getting stability days = 16.393 and diameter = 0.7 use:\n",
      "\ttemperature = 20.0\n",
      "\ttime = 1.0\n",
      "\tc(acid) = 0.107\n",
      "\tc(Ti) = 0.232\n",
      "For getting stability days = 16.427 and diameter = 0.7 use:\n",
      "\ttemperature = 20.0\n",
      "\ttime = 1.0\n",
      "\tc(acid) = 0.102\n",
      "\tc(Ti) = 0.233\n",
      "For getting stability days = 16.427 and diameter = 0.7 use:\n",
      "\ttemperature = 20.0\n",
      "\ttime = 1.0\n",
      "\tc(acid) = 0.102\n",
      "\tc(Ti) = 0.233\n",
      "For getting stability days = 16.414 and diameter = 0.7 use:\n",
      "\ttemperature = 20.0\n",
      "\ttime = 1.0\n",
      "\tc(acid) = 0.104\n",
      "\tc(Ti) = 0.232\n",
      "For getting stability days = 16.428 and diameter = 0.7 use:\n",
      "\ttemperature = 20.0\n",
      "\ttime = 1.0\n",
      "\tc(acid) = 0.101\n",
      "\tc(Ti) = 0.233\n",
      "For getting stability days = 16.428 and diameter = 0.7 use:\n",
      "\ttemperature = 20.0\n",
      "\ttime = 1.0\n",
      "\tc(acid) = 0.101\n",
      "\tc(Ti) = 0.233\n",
      "For getting stability days = 16.393 and diameter = 0.7 use:\n",
      "\ttemperature = 20.0\n",
      "\ttime = 1.0\n",
      "\tc(acid) = 0.107\n",
      "\tc(Ti) = 0.232\n",
      "For getting stability days = 16.427 and diameter = 0.7 use:\n",
      "\ttemperature = 20.0\n",
      "\ttime = 1.0\n",
      "\tc(acid) = 0.102\n",
      "\tc(Ti) = 0.233\n",
      "For getting stability days = 16.393 and diameter = 0.7 use:\n",
      "\ttemperature = 20.0\n",
      "\ttime = 1.0\n",
      "\tc(acid) = 0.107\n",
      "\tc(Ti) = 0.232\n",
      "For getting stability days = 16.427 and diameter = 0.7 use:\n",
      "\ttemperature = 20.0\n",
      "\ttime = 1.0\n",
      "\tc(acid) = 0.102\n",
      "\tc(Ti) = 0.233\n",
      "For getting stability days = 16.428 and diameter = 0.7 use:\n",
      "\ttemperature = 20.0\n",
      "\ttime = 1.0\n",
      "\tc(acid) = 0.101\n",
      "\tc(Ti) = 0.233\n",
      "For getting stability days = 16.427 and diameter = 0.7 use:\n",
      "\ttemperature = 20.0\n",
      "\ttime = 1.0\n",
      "\tc(acid) = 0.102\n",
      "\tc(Ti) = 0.233\n",
      "For getting stability days = 16.428 and diameter = 0.7 use:\n",
      "\ttemperature = 20.0\n",
      "\ttime = 1.0\n",
      "\tc(acid) = 0.101\n",
      "\tc(Ti) = 0.233\n",
      "For getting stability days = 16.428 and diameter = 0.7 use:\n",
      "\ttemperature = 20.0\n",
      "\ttime = 1.0\n",
      "\tc(acid) = 0.101\n",
      "\tc(Ti) = 0.233\n",
      "For getting stability days = 16.393 and diameter = 0.7 use:\n",
      "\ttemperature = 20.0\n",
      "\ttime = 1.0\n",
      "\tc(acid) = 0.107\n",
      "\tc(Ti) = 0.232\n"
     ]
    }
   ],
   "source": [
    "for f, x in zip(res.F, res.X):\n",
    "    print(f'For getting stability days = {round(-f[0], 3)} and diameter = {round(f[1], 3)} use:')\n",
    "    print(f'\\ttemperature = {round(x[0], 3)}')\n",
    "    print(f'\\ttime = {round(x[1], 3)}')\n",
    "    print(f'\\tc(acid) = {round(x[2], 3)}')\n",
    "    print(f'\\tc(Ti) = {round(x[3], 3)}')"
   ]
  },
  {
   "cell_type": "markdown",
   "metadata": {
    "tags": []
   },
   "source": [
    "# Random forest feature importance prediction"
   ]
  },
  {
   "cell_type": "code",
   "execution_count": 21,
   "metadata": {
    "tags": []
   },
   "outputs": [
    {
     "name": "stdout",
     "output_type": "stream",
     "text": [
      "Requirement already satisfied: xgboost in /opt/conda/lib/python3.10/site-packages (1.7.5)\n",
      "Requirement already satisfied: numpy in /opt/conda/lib/python3.10/site-packages (from xgboost) (1.22.4)\n",
      "Requirement already satisfied: scipy in /opt/conda/lib/python3.10/site-packages (from xgboost) (1.10.1)\n"
     ]
    }
   ],
   "source": [
    "!pip install xgboost"
   ]
  },
  {
   "cell_type": "code",
   "execution_count": 22,
   "metadata": {
    "tags": []
   },
   "outputs": [],
   "source": [
    "from sklearn.ensemble import RandomForestRegressor, GradientBoostingRegressor\n",
    "from sklearn.model_selection import GridSearchCV\n",
    "import xgboost as xgb "
   ]
  },
  {
   "cell_type": "code",
   "execution_count": 23,
   "metadata": {
    "tags": []
   },
   "outputs": [],
   "source": [
    "def hex_to_RGB(hex_str):\n",
    "    \"\"\" #FFFFFF -> [255,255,255]\"\"\"\n",
    "    #Pass 16 to the integer function for change of base\n",
    "    return [int(hex_str[i:i+2], 16) for i in range(1,6,2)]\n",
    "\n",
    "def get_color_gradient(c1, c2, n):\n",
    "    \"\"\"\n",
    "    Given two hex colors, returns a color gradient\n",
    "    with n colors.\n",
    "    \"\"\"\n",
    "    assert n > 1\n",
    "    c1_rgb = np.array(hex_to_RGB(c1))/255\n",
    "    c2_rgb = np.array(hex_to_RGB(c2))/255\n",
    "    mix_pcts = [x/(n-1) for x in range(n)]\n",
    "    rgb_colors = [((1-mix)*c1_rgb + (mix*c2_rgb)) for mix in mix_pcts]\n",
    "    return [\"#\" + \"\".join([format(int(round(val*255)), \"02x\") for val in item]) for item in rgb_colors]\n"
   ]
  },
  {
   "cell_type": "code",
   "execution_count": 24,
   "metadata": {
    "tags": []
   },
   "outputs": [],
   "source": [
    "def draw_importance(importances, model_name, columns=X.columns):\n",
    "    features = {}\n",
    "    color1 = \"#2D466D\"\n",
    "    color2 = \"#A2B0C5\"\n",
    "    for i, feature in enumerate(columns):\n",
    "        features[f\"f{i+1}\"] = feature\n",
    "\n",
    "    indices = np.argsort(importances)[::-1]\n",
    "    num_to_plot = len(columns)\n",
    "    feature_indices = [ind + 1 for ind in indices[:num_to_plot]]\n",
    "\n",
    "    print(\"Feature ranking:\")\n",
    "    for f in range(num_to_plot):\n",
    "        print(\n",
    "            \"%d. %s %f \"\n",
    "            % (f + 1, features[\"f\" + str(feature_indices[f])], importances[indices[f]])\n",
    "        )\n",
    "    plt.figure(figsize=(20, 10))\n",
    "    bars = plt.bar(\n",
    "        range(num_to_plot),\n",
    "        importances[indices[:num_to_plot]],\n",
    "        color=get_color_gradient(color1, color2, num_to_plot),\n",
    "        align=\"center\",\n",
    "    )\n",
    "    ticks = plt.xticks(range(num_to_plot), feature_indices, fontsize=22)\n",
    "    plt.yticks(fontsize=22)\n",
    "    plt.xlim([-1, num_to_plot])\n",
    "    plt.legend(bars, [u\"\".join(features[\"f\" + str(i)]) for i in feature_indices], fontsize=\"24\");\n",
    "    plt.title(f\"Feature importance in {model_name}\", fontsize=22)\n",
    "    plt.savefig(f'{artifacts_path}{model_name}.eps', format='eps', dpi=600, bbox_inches='tight', transparent=\"True\", pad_inches=0)\n",
    "    "
   ]
  },
  {
   "cell_type": "code",
   "execution_count": 25,
   "metadata": {
    "tags": []
   },
   "outputs": [],
   "source": [
    "def draw_random_forest(X, y, name):\n",
    "    parameters = {\n",
    "        'n_estimators': range(100, 500, 100),\n",
    "        'max_depth': [None] + list(range(3, 11, 2))}\n",
    "\n",
    "    model = RandomForestRegressor(random_state=42)\n",
    "    clf = GridSearchCV(\n",
    "        model, \n",
    "        parameters, \n",
    "        cv=5, \n",
    "        scoring='neg_mean_absolute_error',\n",
    "        refit=True,\n",
    "        n_jobs=-1)\n",
    "    clf.fit(X, y)\n",
    "    best_random_forest = clf.best_estimator_\n",
    "    print(clf.best_score_)\n",
    "    print(clf.best_params_)\n",
    "    draw_importance(best_random_forest.feature_importances_, f\"Random forest {name}\")"
   ]
  },
  {
   "cell_type": "code",
   "execution_count": 26,
   "metadata": {
    "tags": []
   },
   "outputs": [],
   "source": [
    "def draw_gradient_boosting(X, y, name):\n",
    "    parameters = {\n",
    "        'learning_rate': [0.5, 0.25, 0.1, 0.05, 0.01],\n",
    "        'n_estimators': [4, 8, 16, 32, 64, 128],\n",
    "        'max_depth': range(1, 18, 2)}\n",
    "\n",
    "    model = GradientBoostingRegressor(random_state=42)\n",
    "    clf = GridSearchCV(\n",
    "        model, \n",
    "        parameters, \n",
    "        cv=5, \n",
    "        scoring='neg_mean_absolute_error',\n",
    "        refit=True,\n",
    "        n_jobs=-1)\n",
    "    clf.fit(X, y)\n",
    "    best_gradient_boost = clf.best_estimator_\n",
    "    print(clf.best_score_)\n",
    "    print(clf.best_params_)\n",
    "    draw_importance(best_gradient_boost.feature_importances_, f\"Gradient boost {name}\")"
   ]
  },
  {
   "cell_type": "code",
   "execution_count": 27,
   "metadata": {
    "tags": []
   },
   "outputs": [],
   "source": [
    "def draw_xgboost(X, y, name):\n",
    "    parameters = {\n",
    "        'min_child_weight': [1, 5, 7, 10],\n",
    "        'gamma': [0.5, 1, 1.5, 2, 2.5,],\n",
    "        'subsample': [0.6, 0.8, 1.0],\n",
    "        'colsample_bytree': [0.6, 0.8, 1.0],\n",
    "        'max_depth': [3, 4, 5]\n",
    "    }\n",
    "\n",
    "    model = xgb.XGBRegressor(learning_rate=0.02, n_estimators=600, nthread=1, seed=0)\n",
    "    clf = GridSearchCV(\n",
    "        model, \n",
    "        parameters, \n",
    "        cv=5, \n",
    "        scoring='neg_mean_absolute_error',\n",
    "        refit=True,\n",
    "        n_jobs=-1)\n",
    "    clf.fit(X, y)\n",
    "    best_xgboost = clf.best_estimator_\n",
    "    print(clf.best_score_)\n",
    "    print(clf.best_params_)\n",
    "    draw_importance(best_xgboost.feature_importances_, f\"XGboost {name}\")"
   ]
  },
  {
   "cell_type": "code",
   "execution_count": 28,
   "metadata": {
    "tags": []
   },
   "outputs": [
    {
     "name": "stdout",
     "output_type": "stream",
     "text": [
      "-10.470757823129254\n",
      "{'max_depth': 7, 'n_estimators': 100}\n",
      "Feature ranking:\n",
      "1. с(Ti4+), mol/l 0.451043 \n",
      "2. t, min 0.258712 \n",
      "3. t, °С 0.225146 \n",
      "4. с(acid), mol/l 0.065100 \n"
     ]
    },
    {
     "name": "stderr",
     "output_type": "stream",
     "text": [
      "The PostScript backend does not support transparency; partially transparent artists will be rendered opaque.\n"
     ]
    },
    {
     "data": {
      "image/png": "[encoded data removed]",
      "text/plain": [
       "<Figure size 2000x1000 with 1 Axes>"
      ]
     },
     "metadata": {},
     "output_type": "display_data"
    }
   ],
   "source": [
    "draw_random_forest(X, y_days, \"days of stability\")"
   ]
  },
  {
   "cell_type": "code",
   "execution_count": 29,
   "metadata": {
    "tags": []
   },
   "outputs": [
    {
     "name": "stdout",
     "output_type": "stream",
     "text": [
      "-10.050344067701214\n",
      "{'learning_rate': 0.1, 'max_depth': 5, 'n_estimators': 128}\n",
      "Feature ranking:\n",
      "1. t, min 0.480931 \n",
      "2. t, °С 0.346223 \n",
      "3. с(Ti4+), mol/l 0.130400 \n",
      "4. с(acid), mol/l 0.042446 \n"
     ]
    },
    {
     "name": "stderr",
     "output_type": "stream",
     "text": [
      "The PostScript backend does not support transparency; partially transparent artists will be rendered opaque.\n"
     ]
    },
    {
     "data": {
      "image/png": "[encoded data removed]",
      "text/plain": [
       "<Figure size 2000x1000 with 1 Axes>"
      ]
     },
     "metadata": {},
     "output_type": "display_data"
    }
   ],
   "source": [
    "draw_gradient_boosting(X, y_days, \"days of stability\")"
   ]
  },
  {
   "cell_type": "code",
   "execution_count": 40,
   "metadata": {
    "tags": []
   },
   "outputs": [
    {
     "name": "stderr",
     "output_type": "stream",
     "text": [
      "The PostScript backend does not support transparency; partially transparent artists will be rendered opaque.\n"
     ]
    },
    {
     "name": "stdout",
     "output_type": "stream",
     "text": [
      "-9.450895972620872\n",
      "{'colsample_bytree': 0.6, 'gamma': 0.5, 'max_depth': 4, 'min_child_weight': 1, 'subsample': 1.0}\n",
      "Feature ranking:\n",
      "1. t, min 0.352961 \n",
      "2. с(Ti4+), mol/l 0.287151 \n",
      "3. t, °С 0.191536 \n",
      "4. с(acid), mol/l 0.168353 \n"
     ]
    },
    {
     "data": {
      "image/png": "[encoded data removed]",
      "text/plain": [
       "<Figure size 2000x1000 with 1 Axes>"
      ]
     },
     "metadata": {},
     "output_type": "display_data"
    }
   ],
   "source": [
    "draw_xgboost(X, y_days, \"days of stability\")"
   ]
  },
  {
   "cell_type": "code",
   "execution_count": 41,
   "metadata": {
    "tags": []
   },
   "outputs": [
    {
     "name": "stderr",
     "output_type": "stream",
     "text": [
      "The PostScript backend does not support transparency; partially transparent artists will be rendered opaque.\n"
     ]
    },
    {
     "name": "stdout",
     "output_type": "stream",
     "text": [
      "-415.865398537504\n",
      "{'max_depth': 9, 'n_estimators': 200}\n",
      "Feature ranking:\n",
      "1. с(Ti4+), mol/l 0.616311 \n",
      "2. с(acid), mol/l 0.181579 \n",
      "3. t, min 0.122824 \n",
      "4. t, °С 0.079287 \n"
     ]
    },
    {
     "data": {
      "image/png": "[encoded data removed]",
      "text/plain": [
       "<Figure size 2000x1000 with 1 Axes>"
      ]
     },
     "metadata": {},
     "output_type": "display_data"
    }
   ],
   "source": [
    "draw_random_forest(X, y_d, \"diameter\")"
   ]
  },
  {
   "cell_type": "code",
   "execution_count": 42,
   "metadata": {
    "tags": []
   },
   "outputs": [
    {
     "name": "stdout",
     "output_type": "stream",
     "text": [
      "-398.9535834773643\n",
      "{'learning_rate': 0.05, 'max_depth': 1, 'n_estimators': 64}\n",
      "Feature ranking:\n",
      "1. с(Ti4+), mol/l 0.779142 \n",
      "2. с(acid), mol/l 0.172293 \n",
      "3. t, min 0.048565 \n",
      "4. t, °С 0.000000 \n"
     ]
    },
    {
     "name": "stderr",
     "output_type": "stream",
     "text": [
      "The PostScript backend does not support transparency; partially transparent artists will be rendered opaque.\n"
     ]
    },
    {
     "data": {
      "image/png": "[encoded data removed]",
      "text/plain": [
       "<Figure size 2000x1000 with 1 Axes>"
      ]
     },
     "metadata": {},
     "output_type": "display_data"
    }
   ],
   "source": [
    "draw_gradient_boosting(X, y_d, \"diameter\")"
   ]
  },
  {
   "cell_type": "code",
   "execution_count": 43,
   "metadata": {
    "tags": []
   },
   "outputs": [
    {
     "name": "stderr",
     "output_type": "stream",
     "text": [
      "The PostScript backend does not support transparency; partially transparent artists will be rendered opaque.\n"
     ]
    },
    {
     "name": "stdout",
     "output_type": "stream",
     "text": [
      "-360.78770290222894\n",
      "{'colsample_bytree': 1.0, 'gamma': 0.5, 'max_depth': 3, 'min_child_weight': 10, 'subsample': 0.6}\n",
      "Feature ranking:\n",
      "1. с(Ti4+), mol/l 0.580356 \n",
      "2. с(acid), mol/l 0.260327 \n",
      "3. t, min 0.087955 \n",
      "4. t, °С 0.071363 \n"
     ]
    },
    {
     "data": {
      "image/png": "[encoded data removed]",
      "text/plain": [
       "<Figure size 2000x1000 with 1 Axes>"
      ]
     },
     "metadata": {},
     "output_type": "display_data"
    }
   ],
   "source": [
    "draw_xgboost(X, y_d, \"diameter\")"
   ]
  },
  {
   "cell_type": "markdown",
   "metadata": {
    "tags": []
   },
   "source": [
    "## Results"
   ]
  },
  {
   "cell_type": "code",
   "execution_count": 44,
   "metadata": {
    "tags": []
   },
   "outputs": [
    {
     "data": {
      "text/plain": [
       "Index(['t, °С', 't, min', 'с(acid), mol/l', 'с(Ti4+), mol/l', 'ultrasound ',\n",
       "       'd, nm', 'Contents, %', 'Stability of sols, days', 'd_categorical'],\n",
       "      dtype='object')"
      ]
     },
     "execution_count": 44,
     "metadata": {},
     "output_type": "execute_result"
    }
   ],
   "source": [
    "df.columns"
   ]
  },
  {
   "cell_type": "code",
   "execution_count": 45,
   "metadata": {
    "tags": []
   },
   "outputs": [
    {
     "data": {
      "application/vnd.plotly.v1+json": {
       "config": {
        "plotlyServerURL": "https://plot.ly"
       },
       "data": [
        {
         "customdata": [
          [
           45,
           60,
           4,
           0,
           100,
           16,
           3
          ],
          [
           80,
           10,
           4,
           0,
           100,
           16,
           3
          ],
          [
           45,
           20,
           4,
           0,
           100,
           90,
           1
          ],
          [
           45,
           20,
           4,
           0,
           100,
           60,
           2
          ],
          [
           50,
           20,
           4,
           0,
           100,
           16,
           4
          ],
          [
           50,
           30,
           4,
           0,
           100,
           16,
           3
          ],
          [
           80,
           20,
           4,
           0,
           100,
           16,
           1
          ],
          [
           45,
           60,
           0.3,
           0,
           100,
           2,
           4
          ],
          [
           60,
           60,
           0.3,
           0,
           100,
           0.5,
           4
          ],
          [
           60,
           15,
           0.3,
           0,
           100,
           0.5,
           4
          ],
          [
           45,
           130,
           0.1,
           0,
           99.5,
           9,
           2
          ],
          [
           45,
           130,
           0.1,
           0,
           0.5,
           9,
           2
          ],
          [
           45,
           83,
           0.26,
           0,
           100,
           2,
           4
          ],
          [
           25,
           61,
           0.26,
           0,
           100,
           2,
           4
          ],
          [
           45,
           56,
           0.26,
           0,
           100,
           2,
           4
          ],
          [
           25,
           60,
           0.53,
           0,
           100,
           6,
           3
          ],
          [
           20,
           58,
           0.53,
           0,
           100,
           2,
           3
          ],
          [
           80,
           60,
           0.1,
           0,
           100,
           0,
           4
          ],
          [
           45,
           130,
           0.1,
           0,
           100,
           2,
           2
          ],
          [
           50,
           30,
           4,
           0,
           41.6,
           17,
           5
          ],
          [
           50,
           30,
           4,
           0,
           58.4,
           17,
           3
          ],
          [
           80,
           20,
           4,
           0,
           100,
           90,
           4
          ],
          [
           45,
           60,
           0.3,
           0,
           100,
           2,
           4
          ],
          [
           60,
           60,
           0.3,
           0,
           100,
           2,
           4
          ],
          [
           60,
           30,
           0.3,
           0,
           100,
           2,
           4
          ],
          [
           60,
           60,
           0.3,
           0,
           100,
           0,
           4
          ],
          [
           80,
           20,
           0.3,
           0,
           100,
           0,
           4
          ],
          [
           60,
           40,
           0.3,
           0,
           100,
           0.5,
           4
          ],
          [
           45,
           70,
           0.8,
           0,
           100,
           0.5,
           4
          ],
          [
           20,
           50,
           1.58,
           0,
           100,
           2,
           4
          ],
          [
           20,
           80,
           1.58,
           0,
           100,
           2,
           4
          ],
          [
           20,
           60,
           2.38,
           0,
           100,
           2,
           4
          ],
          [
           25,
           60,
           2.38,
           0,
           100,
           2,
           4
          ],
          [
           45,
           20,
           4,
           0,
           100,
           90,
           0
          ],
          [
           45,
           20,
           4,
           0,
           100,
           90,
           2
          ],
          [
           80,
           8,
           0.1,
           0,
           100,
           60,
           2
          ],
          [
           80,
           9,
           0.1,
           0,
           100,
           10,
           2
          ],
          [
           80,
           10,
           0.1,
           0,
           100,
           10,
           2
          ],
          [
           80,
           11,
           0.1,
           0,
           100,
           10,
           2
          ],
          [
           80,
           12,
           0.1,
           0,
           96.6,
           10,
           1
          ],
          [
           85,
           11,
           0.1,
           0,
           98.8,
           10,
           1
          ],
          [
           88,
           9,
           0.1,
           0,
           100,
           40,
           2
          ],
          [
           88,
           10,
           0.1,
           0,
           99.3,
           40,
           2
          ],
          [
           89,
           9,
           0.1,
           0,
           100,
           10,
           1
          ],
          [
           89,
           10,
           0.1,
           0,
           100,
           10,
           2
          ],
          [
           93,
           11,
           0.1,
           0,
           100,
           40,
           2
          ],
          [
           93,
           12,
           0.1,
           0,
           99.7,
           40,
           2
          ],
          [
           71,
           9,
           0.1,
           0,
           100,
           40,
           1
          ],
          [
           71,
           9,
           0.1,
           0.5,
           100,
           40,
           1
          ],
          [
           71,
           9,
           0.1,
           1,
           100,
           40,
           2
          ],
          [
           71,
           9,
           0.1,
           1.5,
           100,
           40,
           1
          ],
          [
           71,
           10,
           0.1,
           0,
           100,
           40,
           1
          ],
          [
           71,
           10,
           0.1,
           0.5,
           100,
           40,
           1
          ],
          [
           71,
           10,
           0.1,
           1,
           100,
           40,
           2
          ],
          [
           71,
           10,
           0.1,
           1.5,
           100,
           40,
           2
          ],
          [
           71,
           11,
           0.1,
           0,
           100,
           40,
           2
          ],
          [
           71,
           11,
           0.1,
           0.5,
           100,
           40,
           2
          ],
          [
           71,
           11,
           0.1,
           1,
           100,
           40,
           2
          ],
          [
           71,
           11,
           0.1,
           1.5,
           100,
           40,
           2
          ],
          [
           71,
           12,
           0.1,
           0,
           100,
           40,
           2
          ],
          [
           71,
           12,
           0.1,
           0.5,
           100,
           40,
           1
          ],
          [
           71,
           12,
           0.1,
           1,
           100,
           40,
           1
          ],
          [
           71,
           12,
           0.1,
           1.5,
           100,
           40,
           2
          ],
          [
           65,
           12,
           0.1,
           0,
           97.5,
           40,
           1
          ],
          [
           75,
           12,
           0.1,
           0,
           100,
           40,
           2
          ],
          [
           85,
           12,
           0.1,
           0,
           100,
           0,
           4
          ],
          [
           70,
           12,
           0.1,
           0,
           99.5,
           40,
           2
          ],
          [
           70,
           12,
           0.1,
           0,
           100,
           40,
           1
          ],
          [
           70,
           12,
           0.1,
           0,
           100,
           40,
           2
          ],
          [
           70,
           12,
           0.1,
           0,
           97.8,
           40,
           2
          ],
          [
           80,
           8,
           0.1,
           0,
           100,
           60,
           2
          ]
         ],
         "hovertemplate": "с(Ti4+), mol/l=%{x}<br>d, nm=%{y}<br>t, °С=%{customdata[0]}<br>t, min=%{customdata[1]}<br>с(acid), mol/l=%{customdata[2]}<br>ultrasound =%{customdata[3]}<br>Contents, %=%{customdata[4]}<br>Stability of sols, days=%{marker.color}<br>d_categorical=%{customdata[6]}<extra></extra>",
         "legendgroup": "",
         "marker": {
          "color": [
           16,
           16,
           90,
           60,
           16,
           16,
           16,
           2,
           0.5,
           0.5,
           9,
           9,
           2,
           2,
           2,
           6,
           2,
           0,
           2,
           17,
           17,
           90,
           2,
           2,
           2,
           0,
           0,
           0.5,
           0.5,
           2,
           2,
           2,
           2,
           90,
           90,
           60,
           10,
           10,
           10,
           10,
           10,
           40,
           40,
           10,
           10,
           40,
           40,
           40,
           40,
           40,
           40,
           40,
           40,
           40,
           40,
           40,
           40,
           40,
           40,
           40,
           40,
           40,
           40,
           40,
           40,
           0,
           40,
           40,
           40,
           40,
           60
          ],
          "coloraxis": "coloraxis",
          "line": {
           "width": 0.5
          },
          "size": 8,
          "symbol": "circle"
         },
         "mode": "markers",
         "name": "",
         "orientation": "v",
         "showlegend": false,
         "type": "scatter",
         "x": [
          0.5,
          0.5,
          0.5,
          0.47,
          0.2,
          0.2,
          0.2,
          0.14,
          0.14,
          0.14,
          0.28,
          0.28,
          0.14,
          0.14,
          0.14,
          0.14,
          0.14,
          0.14,
          0.28,
          0.3,
          0.3,
          0.3,
          0.35,
          0.35,
          0.35,
          0.17,
          0.17,
          0.17,
          0.17,
          0.15,
          0.15,
          0.15,
          0.15,
          0.47,
          0.47,
          0.6,
          0.6,
          0.6,
          0.6,
          0.6,
          0.6,
          0.6,
          0.6,
          0.6,
          0.6,
          0.6,
          0.6,
          0.6,
          0.6,
          0.6,
          0.6,
          0.6,
          0.6,
          0.6,
          0.6,
          0.6,
          0.6,
          0.6,
          0.6,
          0.6,
          0.6,
          0.6,
          0.6,
          0.6,
          0.6,
          0.6,
          0.62,
          0.59,
          0.55,
          0.52,
          0.6
         ],
         "xaxis": "x",
         "y": [
          618.5,
          978.1,
          2,
          2.628,
          1712,
          889.6,
          1.7,
          2000,
          2000,
          2000,
          8.3,
          21.3,
          2000,
          2000,
          2000,
          832.4,
          716.2,
          2000,
          5.4,
          2159,
          487.2,
          1021,
          2000,
          2000,
          2000,
          2000,
          2000,
          2000,
          2000,
          2000,
          2000,
          2000,
          2000,
          0.7,
          2.628,
          2.03,
          2.422,
          2.101,
          2.269,
          1.753,
          1.332,
          2.496,
          2.307,
          1.878,
          2.069,
          2.763,
          3.219,
          1.893,
          1.967,
          2.122,
          1.784,
          1.958,
          1.938,
          2.187,
          2.086,
          2.176,
          2.216,
          2.017,
          2.255,
          2.185,
          1.981,
          1.762,
          2.022,
          1.377,
          3.304,
          2000,
          2.9,
          1.901,
          2.841,
          2.162,
          2.197
         ],
         "yaxis": "y"
        }
       ],
       "layout": {
        "coloraxis": {
         "colorbar": {
          "title": {
           "text": "Stability of sols, days"
          }
         },
         "colorscale": [
          [
           0,
           "#0d0887"
          ],
          [
           0.1111111111111111,
           "#46039f"
          ],
          [
           0.2222222222222222,
           "#7201a8"
          ],
          [
           0.3333333333333333,
           "#9c179e"
          ],
          [
           0.4444444444444444,
           "#bd3786"
          ],
          [
           0.5555555555555556,
           "#d8576b"
          ],
          [
           0.6666666666666666,
           "#ed7953"
          ],
          [
           0.7777777777777778,
           "#fb9f3a"
          ],
          [
           0.8888888888888888,
           "#fdca26"
          ],
          [
           1,
           "#f0f921"
          ]
         ]
        },
        "height": 600,
        "legend": {
         "tracegroupgap": 0
        },
        "margin": {
         "t": 60
        },
        "template": {
         "data": {
          "bar": [
           {
            "error_x": {
             "color": "#2a3f5f"
            },
            "error_y": {
             "color": "#2a3f5f"
            },
            "marker": {
             "line": {
              "color": "#E5ECF6",
              "width": 0.5
             },
             "pattern": {
              "fillmode": "overlay",
              "size": 10,
              "solidity": 0.2
             }
            },
            "type": "bar"
           }
          ],
          "barpolar": [
           {
            "marker": {
             "line": {
              "color": "#E5ECF6",
              "width": 0.5
             },
             "pattern": {
              "fillmode": "overlay",
              "size": 10,
              "solidity": 0.2
             }
            },
            "type": "barpolar"
           }
          ],
          "carpet": [
           {
            "aaxis": {
             "endlinecolor": "#2a3f5f",
             "gridcolor": "white",
             "linecolor": "white",
             "minorgridcolor": "white",
             "startlinecolor": "#2a3f5f"
            },
            "baxis": {
             "endlinecolor": "#2a3f5f",
             "gridcolor": "white",
             "linecolor": "white",
             "minorgridcolor": "white",
             "startlinecolor": "#2a3f5f"
            },
            "type": "carpet"
           }
          ],
          "choropleth": [
           {
            "colorbar": {
             "outlinewidth": 0,
             "ticks": ""
            },
            "type": "choropleth"
           }
          ],
          "contour": [
           {
            "colorbar": {
             "outlinewidth": 0,
             "ticks": ""
            },
            "colorscale": [
             [
              0,
              "#0d0887"
             ],
             [
              0.1111111111111111,
              "#46039f"
             ],
             [
              0.2222222222222222,
              "#7201a8"
             ],
             [
              0.3333333333333333,
              "#9c179e"
             ],
             [
              0.4444444444444444,
              "#bd3786"
             ],
             [
              0.5555555555555556,
              "#d8576b"
             ],
             [
              0.6666666666666666,
              "#ed7953"
             ],
             [
              0.7777777777777778,
              "#fb9f3a"
             ],
             [
              0.8888888888888888,
              "#fdca26"
             ],
             [
              1,
              "#f0f921"
             ]
            ],
            "type": "contour"
           }
          ],
          "contourcarpet": [
           {
            "colorbar": {
             "outlinewidth": 0,
             "ticks": ""
            },
            "type": "contourcarpet"
           }
          ],
          "heatmap": [
           {
            "colorbar": {
             "outlinewidth": 0,
             "ticks": ""
            },
            "colorscale": [
             [
              0,
              "#0d0887"
             ],
             [
              0.1111111111111111,
              "#46039f"
             ],
             [
              0.2222222222222222,
              "#7201a8"
             ],
             [
              0.3333333333333333,
              "#9c179e"
             ],
             [
              0.4444444444444444,
              "#bd3786"
             ],
             [
              0.5555555555555556,
              "#d8576b"
             ],
             [
              0.6666666666666666,
              "#ed7953"
             ],
             [
              0.7777777777777778,
              "#fb9f3a"
             ],
             [
              0.8888888888888888,
              "#fdca26"
             ],
             [
              1,
              "#f0f921"
             ]
            ],
            "type": "heatmap"
           }
          ],
          "heatmapgl": [
           {
            "colorbar": {
             "outlinewidth": 0,
             "ticks": ""
            },
            "colorscale": [
             [
              0,
              "#0d0887"
             ],
             [
              0.1111111111111111,
              "#46039f"
             ],
             [
              0.2222222222222222,
              "#7201a8"
             ],
             [
              0.3333333333333333,
              "#9c179e"
             ],
             [
              0.4444444444444444,
              "#bd3786"
             ],
             [
              0.5555555555555556,
              "#d8576b"
             ],
             [
              0.6666666666666666,
              "#ed7953"
             ],
             [
              0.7777777777777778,
              "#fb9f3a"
             ],
             [
              0.8888888888888888,
              "#fdca26"
             ],
             [
              1,
              "#f0f921"
             ]
            ],
            "type": "heatmapgl"
           }
          ],
          "histogram": [
           {
            "marker": {
             "pattern": {
              "fillmode": "overlay",
              "size": 10,
              "solidity": 0.2
             }
            },
            "type": "histogram"
           }
          ],
          "histogram2d": [
           {
            "colorbar": {
             "outlinewidth": 0,
             "ticks": ""
            },
            "colorscale": [
             [
              0,
              "#0d0887"
             ],
             [
              0.1111111111111111,
              "#46039f"
             ],
             [
              0.2222222222222222,
              "#7201a8"
             ],
             [
              0.3333333333333333,
              "#9c179e"
             ],
             [
              0.4444444444444444,
              "#bd3786"
             ],
             [
              0.5555555555555556,
              "#d8576b"
             ],
             [
              0.6666666666666666,
              "#ed7953"
             ],
             [
              0.7777777777777778,
              "#fb9f3a"
             ],
             [
              0.8888888888888888,
              "#fdca26"
             ],
             [
              1,
              "#f0f921"
             ]
            ],
            "type": "histogram2d"
           }
          ],
          "histogram2dcontour": [
           {
            "colorbar": {
             "outlinewidth": 0,
             "ticks": ""
            },
            "colorscale": [
             [
              0,
              "#0d0887"
             ],
             [
              0.1111111111111111,
              "#46039f"
             ],
             [
              0.2222222222222222,
              "#7201a8"
             ],
             [
              0.3333333333333333,
              "#9c179e"
             ],
             [
              0.4444444444444444,
              "#bd3786"
             ],
             [
              0.5555555555555556,
              "#d8576b"
             ],
             [
              0.6666666666666666,
              "#ed7953"
             ],
             [
              0.7777777777777778,
              "#fb9f3a"
             ],
             [
              0.8888888888888888,
              "#fdca26"
             ],
             [
              1,
              "#f0f921"
             ]
            ],
            "type": "histogram2dcontour"
           }
          ],
          "mesh3d": [
           {
            "colorbar": {
             "outlinewidth": 0,
             "ticks": ""
            },
            "type": "mesh3d"
           }
          ],
          "parcoords": [
           {
            "line": {
             "colorbar": {
              "outlinewidth": 0,
              "ticks": ""
             }
            },
            "type": "parcoords"
           }
          ],
          "pie": [
           {
            "automargin": true,
            "type": "pie"
           }
          ],
          "scatter": [
           {
            "fillpattern": {
             "fillmode": "overlay",
             "size": 10,
             "solidity": 0.2
            },
            "type": "scatter"
           }
          ],
          "scatter3d": [
           {
            "line": {
             "colorbar": {
              "outlinewidth": 0,
              "ticks": ""
             }
            },
            "marker": {
             "colorbar": {
              "outlinewidth": 0,
              "ticks": ""
             }
            },
            "type": "scatter3d"
           }
          ],
          "scattercarpet": [
           {
            "marker": {
             "colorbar": {
              "outlinewidth": 0,
              "ticks": ""
             }
            },
            "type": "scattercarpet"
           }
          ],
          "scattergeo": [
           {
            "marker": {
             "colorbar": {
              "outlinewidth": 0,
              "ticks": ""
             }
            },
            "type": "scattergeo"
           }
          ],
          "scattergl": [
           {
            "marker": {
             "colorbar": {
              "outlinewidth": 0,
              "ticks": ""
             }
            },
            "type": "scattergl"
           }
          ],
          "scattermapbox": [
           {
            "marker": {
             "colorbar": {
              "outlinewidth": 0,
              "ticks": ""
             }
            },
            "type": "scattermapbox"
           }
          ],
          "scatterpolar": [
           {
            "marker": {
             "colorbar": {
              "outlinewidth": 0,
              "ticks": ""
             }
            },
            "type": "scatterpolar"
           }
          ],
          "scatterpolargl": [
           {
            "marker": {
             "colorbar": {
              "outlinewidth": 0,
              "ticks": ""
             }
            },
            "type": "scatterpolargl"
           }
          ],
          "scatterternary": [
           {
            "marker": {
             "colorbar": {
              "outlinewidth": 0,
              "ticks": ""
             }
            },
            "type": "scatterternary"
           }
          ],
          "surface": [
           {
            "colorbar": {
             "outlinewidth": 0,
             "ticks": ""
            },
            "colorscale": [
             [
              0,
              "#0d0887"
             ],
             [
              0.1111111111111111,
              "#46039f"
             ],
             [
              0.2222222222222222,
              "#7201a8"
             ],
             [
              0.3333333333333333,
              "#9c179e"
             ],
             [
              0.4444444444444444,
              "#bd3786"
             ],
             [
              0.5555555555555556,
              "#d8576b"
             ],
             [
              0.6666666666666666,
              "#ed7953"
             ],
             [
              0.7777777777777778,
              "#fb9f3a"
             ],
             [
              0.8888888888888888,
              "#fdca26"
             ],
             [
              1,
              "#f0f921"
             ]
            ],
            "type": "surface"
           }
          ],
          "table": [
           {
            "cells": {
             "fill": {
              "color": "#EBF0F8"
             },
             "line": {
              "color": "white"
             }
            },
            "header": {
             "fill": {
              "color": "#C8D4E3"
             },
             "line": {
              "color": "white"
             }
            },
            "type": "table"
           }
          ]
         },
         "layout": {
          "annotationdefaults": {
           "arrowcolor": "#2a3f5f",
           "arrowhead": 0,
           "arrowwidth": 1
          },
          "autotypenumbers": "strict",
          "coloraxis": {
           "colorbar": {
            "outlinewidth": 0,
            "ticks": ""
           }
          },
          "colorscale": {
           "diverging": [
            [
             0,
             "#8e0152"
            ],
            [
             0.1,
             "#c51b7d"
            ],
            [
             0.2,
             "#de77ae"
            ],
            [
             0.3,
             "#f1b6da"
            ],
            [
             0.4,
             "#fde0ef"
            ],
            [
             0.5,
             "#f7f7f7"
            ],
            [
             0.6,
             "#e6f5d0"
            ],
            [
             0.7,
             "#b8e186"
            ],
            [
             0.8,
             "#7fbc41"
            ],
            [
             0.9,
             "#4d9221"
            ],
            [
             1,
             "#276419"
            ]
           ],
           "sequential": [
            [
             0,
             "#0d0887"
            ],
            [
             0.1111111111111111,
             "#46039f"
            ],
            [
             0.2222222222222222,
             "#7201a8"
            ],
            [
             0.3333333333333333,
             "#9c179e"
            ],
            [
             0.4444444444444444,
             "#bd3786"
            ],
            [
             0.5555555555555556,
             "#d8576b"
            ],
            [
             0.6666666666666666,
             "#ed7953"
            ],
            [
             0.7777777777777778,
             "#fb9f3a"
            ],
            [
             0.8888888888888888,
             "#fdca26"
            ],
            [
             1,
             "#f0f921"
            ]
           ],
           "sequentialminus": [
            [
             0,
             "#0d0887"
            ],
            [
             0.1111111111111111,
             "#46039f"
            ],
            [
             0.2222222222222222,
             "#7201a8"
            ],
            [
             0.3333333333333333,
             "#9c179e"
            ],
            [
             0.4444444444444444,
             "#bd3786"
            ],
            [
             0.5555555555555556,
             "#d8576b"
            ],
            [
             0.6666666666666666,
             "#ed7953"
            ],
            [
             0.7777777777777778,
             "#fb9f3a"
            ],
            [
             0.8888888888888888,
             "#fdca26"
            ],
            [
             1,
             "#f0f921"
            ]
           ]
          },
          "colorway": [
           "#636efa",
           "#EF553B",
           "#00cc96",
           "#ab63fa",
           "#FFA15A",
           "#19d3f3",
           "#FF6692",
           "#B6E880",
           "#FF97FF",
           "#FECB52"
          ],
          "font": {
           "color": "#2a3f5f"
          },
          "geo": {
           "bgcolor": "white",
           "lakecolor": "white",
           "landcolor": "#E5ECF6",
           "showlakes": true,
           "showland": true,
           "subunitcolor": "white"
          },
          "hoverlabel": {
           "align": "left"
          },
          "hovermode": "closest",
          "mapbox": {
           "style": "light"
          },
          "paper_bgcolor": "white",
          "plot_bgcolor": "#E5ECF6",
          "polar": {
           "angularaxis": {
            "gridcolor": "white",
            "linecolor": "white",
            "ticks": ""
           },
           "bgcolor": "#E5ECF6",
           "radialaxis": {
            "gridcolor": "white",
            "linecolor": "white",
            "ticks": ""
           }
          },
          "scene": {
           "xaxis": {
            "backgroundcolor": "#E5ECF6",
            "gridcolor": "white",
            "gridwidth": 2,
            "linecolor": "white",
            "showbackground": true,
            "ticks": "",
            "zerolinecolor": "white"
           },
           "yaxis": {
            "backgroundcolor": "#E5ECF6",
            "gridcolor": "white",
            "gridwidth": 2,
            "linecolor": "white",
            "showbackground": true,
            "ticks": "",
            "zerolinecolor": "white"
           },
           "zaxis": {
            "backgroundcolor": "#E5ECF6",
            "gridcolor": "white",
            "gridwidth": 2,
            "linecolor": "white",
            "showbackground": true,
            "ticks": "",
            "zerolinecolor": "white"
           }
          },
          "shapedefaults": {
           "line": {
            "color": "#2a3f5f"
           }
          },
          "ternary": {
           "aaxis": {
            "gridcolor": "white",
            "linecolor": "white",
            "ticks": ""
           },
           "baxis": {
            "gridcolor": "white",
            "linecolor": "white",
            "ticks": ""
           },
           "bgcolor": "#E5ECF6",
           "caxis": {
            "gridcolor": "white",
            "linecolor": "white",
            "ticks": ""
           }
          },
          "title": {
           "x": 0.05
          },
          "xaxis": {
           "automargin": true,
           "gridcolor": "white",
           "linecolor": "white",
           "ticks": "",
           "title": {
            "standoff": 15
           },
           "zerolinecolor": "white",
           "zerolinewidth": 2
          },
          "yaxis": {
           "automargin": true,
           "gridcolor": "white",
           "linecolor": "white",
           "ticks": "",
           "title": {
            "standoff": 15
           },
           "zerolinecolor": "white",
           "zerolinewidth": 2
          }
         }
        },
        "title": {
         "text": "c(Ti4+) to d, nm"
        },
        "width": 900,
        "xaxis": {
         "anchor": "y",
         "autorange": true,
         "domain": [
          0,
          1
         ],
         "range": [
          0.10858414959928764,
          0.6514158504007124
         ],
         "title": {
          "text": "с(Ti4+), mol/l"
         },
         "type": "linear"
        },
        "yaxis": {
         "anchor": "x",
         "autorange": true,
         "domain": [
          0,
          1
         ],
         "range": [
          -148.8851485148515,
          2308.5851485148514
         ],
         "title": {
          "text": "d, nm"
         },
         "type": "linear"
        }
       }
      },
      "text/html": [
       "<div>                            <div id=\"a097e0e2-c9af-4734-af7f-bd6047e3835b\" class=\"plotly-graph-div\" style=\"height:600px; width:900px;\"></div>            <script type=\"text/javascript\">                require([\"plotly\"], function(Plotly) {                    window.PLOTLYENV=window.PLOTLYENV || {};                                    if (document.getElementById(\"a097e0e2-c9af-4734-af7f-bd6047e3835b\")) {                    Plotly.newPlot(                        \"a097e0e2-c9af-4734-af7f-bd6047e3835b\",                        [{\"customdata\":[[45.0,60.0,4.0,0.0,100.0,16.0,3.0],[80.0,10.0,4.0,0.0,100.0,16.0,3.0],[45.0,20.0,4.0,0.0,100.0,90.0,1.0],[45.0,20.0,4.0,0.0,100.0,60.0,2.0],[50.0,20.0,4.0,0.0,100.0,16.0,4.0],[50.0,30.0,4.0,0.0,100.0,16.0,3.0],[80.0,20.0,4.0,0.0,100.0,16.0,1.0],[45.0,60.0,0.3,0.0,100.0,2.0,4.0],[60.0,60.0,0.3,0.0,100.0,0.5,4.0],[60.0,15.0,0.3,0.0,100.0,0.5,4.0],[45.0,130.0,0.1,0.0,99.5,9.0,2.0],[45.0,130.0,0.1,0.0,0.5,9.0,2.0],[45.0,83.0,0.26,0.0,100.0,2.0,4.0],[25.0,61.0,0.26,0.0,100.0,2.0,4.0],[45.0,56.0,0.26,0.0,100.0,2.0,4.0],[25.0,60.0,0.53,0.0,100.0,6.0,3.0],[20.0,58.0,0.53,0.0,100.0,2.0,3.0],[80.0,60.0,0.1,0.0,100.0,0.0,4.0],[45.0,130.0,0.1,0.0,100.0,2.0,2.0],[50.0,30.0,4.0,0.0,41.6,17.0,5.0],[50.0,30.0,4.0,0.0,58.4,17.0,3.0],[80.0,20.0,4.0,0.0,100.0,90.0,4.0],[45.0,60.0,0.3,0.0,100.0,2.0,4.0],[60.0,60.0,0.3,0.0,100.0,2.0,4.0],[60.0,30.0,0.3,0.0,100.0,2.0,4.0],[60.0,60.0,0.3,0.0,100.0,0.0,4.0],[80.0,20.0,0.3,0.0,100.0,0.0,4.0],[60.0,40.0,0.3,0.0,100.0,0.5,4.0],[45.0,70.0,0.8,0.0,100.0,0.5,4.0],[20.0,50.0,1.58,0.0,100.0,2.0,4.0],[20.0,80.0,1.58,0.0,100.0,2.0,4.0],[20.0,60.0,2.38,0.0,100.0,2.0,4.0],[25.0,60.0,2.38,0.0,100.0,2.0,4.0],[45.0,20.0,4.0,0.0,100.0,90.0,0.0],[45.0,20.0,4.0,0.0,100.0,90.0,2.0],[80.0,8.0,0.1,0.0,100.0,60.0,2.0],[80.0,9.0,0.1,0.0,100.0,10.0,2.0],[80.0,10.0,0.1,0.0,100.0,10.0,2.0],[80.0,11.0,0.1,0.0,100.0,10.0,2.0],[80.0,12.0,0.1,0.0,96.6,10.0,1.0],[85.0,11.0,0.1,0.0,98.8,10.0,1.0],[88.0,9.0,0.1,0.0,100.0,40.0,2.0],[88.0,10.0,0.1,0.0,99.3,40.0,2.0],[89.0,9.0,0.1,0.0,100.0,10.0,1.0],[89.0,10.0,0.1,0.0,100.0,10.0,2.0],[93.0,11.0,0.1,0.0,100.0,40.0,2.0],[93.0,12.0,0.1,0.0,99.7,40.0,2.0],[71.0,9.0,0.1,0.0,100.0,40.0,1.0],[71.0,9.0,0.1,0.5,100.0,40.0,1.0],[71.0,9.0,0.1,1.0,100.0,40.0,2.0],[71.0,9.0,0.1,1.5,100.0,40.0,1.0],[71.0,10.0,0.1,0.0,100.0,40.0,1.0],[71.0,10.0,0.1,0.5,100.0,40.0,1.0],[71.0,10.0,0.1,1.0,100.0,40.0,2.0],[71.0,10.0,0.1,1.5,100.0,40.0,2.0],[71.0,11.0,0.1,0.0,100.0,40.0,2.0],[71.0,11.0,0.1,0.5,100.0,40.0,2.0],[71.0,11.0,0.1,1.0,100.0,40.0,2.0],[71.0,11.0,0.1,1.5,100.0,40.0,2.0],[71.0,12.0,0.1,0.0,100.0,40.0,2.0],[71.0,12.0,0.1,0.5,100.0,40.0,1.0],[71.0,12.0,0.1,1.0,100.0,40.0,1.0],[71.0,12.0,0.1,1.5,100.0,40.0,2.0],[65.0,12.0,0.1,0.0,97.5,40.0,1.0],[75.0,12.0,0.1,0.0,100.0,40.0,2.0],[85.0,12.0,0.1,0.0,100.0,0.0,4.0],[70.0,12.0,0.1,0.0,99.5,40.0,2.0],[70.0,12.0,0.1,0.0,100.0,40.0,1.0],[70.0,12.0,0.1,0.0,100.0,40.0,2.0],[70.0,12.0,0.1,0.0,97.8,40.0,2.0],[80.0,8.0,0.1,0.0,100.0,60.0,2.0]],\"hovertemplate\":\"\\u0441(Ti4+), mol/l=%{x}<br>d, nm=%{y}<br>t, \\u00b0\\u0421=%{customdata[0]}<br>t, min=%{customdata[1]}<br>\\u0441(acid), mol/l=%{customdata[2]}<br>ultrasound =%{customdata[3]}<br>Contents, %=%{customdata[4]}<br>Stability of sols, days=%{marker.color}<br>d_categorical=%{customdata[6]}<extra></extra>\",\"legendgroup\":\"\",\"marker\":{\"color\":[16.0,16.0,90.0,60.0,16.0,16.0,16.0,2.0,0.5,0.5,9.0,9.0,2.0,2.0,2.0,6.0,2.0,0.0,2.0,17.0,17.0,90.0,2.0,2.0,2.0,0.0,0.0,0.5,0.5,2.0,2.0,2.0,2.0,90.0,90.0,60.0,10.0,10.0,10.0,10.0,10.0,40.0,40.0,10.0,10.0,40.0,40.0,40.0,40.0,40.0,40.0,40.0,40.0,40.0,40.0,40.0,40.0,40.0,40.0,40.0,40.0,40.0,40.0,40.0,40.0,0.0,40.0,40.0,40.0,40.0,60.0],\"coloraxis\":\"coloraxis\",\"symbol\":\"circle\",\"line\":{\"width\":0.5},\"size\":8},\"mode\":\"markers\",\"name\":\"\",\"orientation\":\"v\",\"showlegend\":false,\"x\":[0.5,0.5,0.5,0.47,0.2,0.2,0.2,0.14,0.14,0.14,0.28,0.28,0.14,0.14,0.14,0.14,0.14,0.14,0.28,0.3,0.3,0.3,0.35,0.35,0.35,0.17,0.17,0.17,0.17,0.15,0.15,0.15,0.15,0.47,0.47,0.6,0.6,0.6,0.6,0.6,0.6,0.6,0.6,0.6,0.6,0.6,0.6,0.6,0.6,0.6,0.6,0.6,0.6,0.6,0.6,0.6,0.6,0.6,0.6,0.6,0.6,0.6,0.6,0.6,0.6,0.6,0.62,0.59,0.55,0.52,0.6],\"xaxis\":\"x\",\"y\":[618.5,978.1,2.0,2.628,1712.0,889.6,1.7,2000.0,2000.0,2000.0,8.3,21.3,2000.0,2000.0,2000.0,832.4,716.2,2000.0,5.4,2159.0,487.2,1021.0,2000.0,2000.0,2000.0,2000.0,2000.0,2000.0,2000.0,2000.0,2000.0,2000.0,2000.0,0.7,2.628,2.03,2.422,2.101,2.269,1.753,1.332,2.496,2.307,1.878,2.069,2.763,3.219,1.893,1.967,2.122,1.784,1.958,1.938,2.187,2.086,2.176,2.216,2.017,2.255,2.185,1.981,1.762,2.022,1.377,3.304,2000.0,2.9,1.901,2.841,2.162,2.197],\"yaxis\":\"y\",\"type\":\"scatter\"}],                        {\"template\":{\"data\":{\"histogram2dcontour\":[{\"type\":\"histogram2dcontour\",\"colorbar\":{\"outlinewidth\":0,\"ticks\":\"\"},\"colorscale\":[[0.0,\"#0d0887\"],[0.1111111111111111,\"#46039f\"],[0.2222222222222222,\"#7201a8\"],[0.3333333333333333,\"#9c179e\"],[0.4444444444444444,\"#bd3786\"],[0.5555555555555556,\"#d8576b\"],[0.6666666666666666,\"#ed7953\"],[0.7777777777777778,\"#fb9f3a\"],[0.8888888888888888,\"#fdca26\"],[1.0,\"#f0f921\"]]}],\"choropleth\":[{\"type\":\"choropleth\",\"colorbar\":{\"outlinewidth\":0,\"ticks\":\"\"}}],\"histogram2d\":[{\"type\":\"histogram2d\",\"colorbar\":{\"outlinewidth\":0,\"ticks\":\"\"},\"colorscale\":[[0.0,\"#0d0887\"],[0.1111111111111111,\"#46039f\"],[0.2222222222222222,\"#7201a8\"],[0.3333333333333333,\"#9c179e\"],[0.4444444444444444,\"#bd3786\"],[0.5555555555555556,\"#d8576b\"],[0.6666666666666666,\"#ed7953\"],[0.7777777777777778,\"#fb9f3a\"],[0.8888888888888888,\"#fdca26\"],[1.0,\"#f0f921\"]]}],\"heatmap\":[{\"type\":\"heatmap\",\"colorbar\":{\"outlinewidth\":0,\"ticks\":\"\"},\"colorscale\":[[0.0,\"#0d0887\"],[0.1111111111111111,\"#46039f\"],[0.2222222222222222,\"#7201a8\"],[0.3333333333333333,\"#9c179e\"],[0.4444444444444444,\"#bd3786\"],[0.5555555555555556,\"#d8576b\"],[0.6666666666666666,\"#ed7953\"],[0.7777777777777778,\"#fb9f3a\"],[0.8888888888888888,\"#fdca26\"],[1.0,\"#f0f921\"]]}],\"heatmapgl\":[{\"type\":\"heatmapgl\",\"colorbar\":{\"outlinewidth\":0,\"ticks\":\"\"},\"colorscale\":[[0.0,\"#0d0887\"],[0.1111111111111111,\"#46039f\"],[0.2222222222222222,\"#7201a8\"],[0.3333333333333333,\"#9c179e\"],[0.4444444444444444,\"#bd3786\"],[0.5555555555555556,\"#d8576b\"],[0.6666666666666666,\"#ed7953\"],[0.7777777777777778,\"#fb9f3a\"],[0.8888888888888888,\"#fdca26\"],[1.0,\"#f0f921\"]]}],\"contourcarpet\":[{\"type\":\"contourcarpet\",\"colorbar\":{\"outlinewidth\":0,\"ticks\":\"\"}}],\"contour\":[{\"type\":\"contour\",\"colorbar\":{\"outlinewidth\":0,\"ticks\":\"\"},\"colorscale\":[[0.0,\"#0d0887\"],[0.1111111111111111,\"#46039f\"],[0.2222222222222222,\"#7201a8\"],[0.3333333333333333,\"#9c179e\"],[0.4444444444444444,\"#bd3786\"],[0.5555555555555556,\"#d8576b\"],[0.6666666666666666,\"#ed7953\"],[0.7777777777777778,\"#fb9f3a\"],[0.8888888888888888,\"#fdca26\"],[1.0,\"#f0f921\"]]}],\"surface\":[{\"type\":\"surface\",\"colorbar\":{\"outlinewidth\":0,\"ticks\":\"\"},\"colorscale\":[[0.0,\"#0d0887\"],[0.1111111111111111,\"#46039f\"],[0.2222222222222222,\"#7201a8\"],[0.3333333333333333,\"#9c179e\"],[0.4444444444444444,\"#bd3786\"],[0.5555555555555556,\"#d8576b\"],[0.6666666666666666,\"#ed7953\"],[0.7777777777777778,\"#fb9f3a\"],[0.8888888888888888,\"#fdca26\"],[1.0,\"#f0f921\"]]}],\"mesh3d\":[{\"type\":\"mesh3d\",\"colorbar\":{\"outlinewidth\":0,\"ticks\":\"\"}}],\"scatter\":[{\"fillpattern\":{\"fillmode\":\"overlay\",\"size\":10,\"solidity\":0.2},\"type\":\"scatter\"}],\"parcoords\":[{\"type\":\"parcoords\",\"line\":{\"colorbar\":{\"outlinewidth\":0,\"ticks\":\"\"}}}],\"scatterpolargl\":[{\"type\":\"scatterpolargl\",\"marker\":{\"colorbar\":{\"outlinewidth\":0,\"ticks\":\"\"}}}],\"bar\":[{\"error_x\":{\"color\":\"#2a3f5f\"},\"error_y\":{\"color\":\"#2a3f5f\"},\"marker\":{\"line\":{\"color\":\"#E5ECF6\",\"width\":0.5},\"pattern\":{\"fillmode\":\"overlay\",\"size\":10,\"solidity\":0.2}},\"type\":\"bar\"}],\"scattergeo\":[{\"type\":\"scattergeo\",\"marker\":{\"colorbar\":{\"outlinewidth\":0,\"ticks\":\"\"}}}],\"scatterpolar\":[{\"type\":\"scatterpolar\",\"marker\":{\"colorbar\":{\"outlinewidth\":0,\"ticks\":\"\"}}}],\"histogram\":[{\"marker\":{\"pattern\":{\"fillmode\":\"overlay\",\"size\":10,\"solidity\":0.2}},\"type\":\"histogram\"}],\"scattergl\":[{\"type\":\"scattergl\",\"marker\":{\"colorbar\":{\"outlinewidth\":0,\"ticks\":\"\"}}}],\"scatter3d\":[{\"type\":\"scatter3d\",\"line\":{\"colorbar\":{\"outlinewidth\":0,\"ticks\":\"\"}},\"marker\":{\"colorbar\":{\"outlinewidth\":0,\"ticks\":\"\"}}}],\"scattermapbox\":[{\"type\":\"scattermapbox\",\"marker\":{\"colorbar\":{\"outlinewidth\":0,\"ticks\":\"\"}}}],\"scatterternary\":[{\"type\":\"scatterternary\",\"marker\":{\"colorbar\":{\"outlinewidth\":0,\"ticks\":\"\"}}}],\"scattercarpet\":[{\"type\":\"scattercarpet\",\"marker\":{\"colorbar\":{\"outlinewidth\":0,\"ticks\":\"\"}}}],\"carpet\":[{\"aaxis\":{\"endlinecolor\":\"#2a3f5f\",\"gridcolor\":\"white\",\"linecolor\":\"white\",\"minorgridcolor\":\"white\",\"startlinecolor\":\"#2a3f5f\"},\"baxis\":{\"endlinecolor\":\"#2a3f5f\",\"gridcolor\":\"white\",\"linecolor\":\"white\",\"minorgridcolor\":\"white\",\"startlinecolor\":\"#2a3f5f\"},\"type\":\"carpet\"}],\"table\":[{\"cells\":{\"fill\":{\"color\":\"#EBF0F8\"},\"line\":{\"color\":\"white\"}},\"header\":{\"fill\":{\"color\":\"#C8D4E3\"},\"line\":{\"color\":\"white\"}},\"type\":\"table\"}],\"barpolar\":[{\"marker\":{\"line\":{\"color\":\"#E5ECF6\",\"width\":0.5},\"pattern\":{\"fillmode\":\"overlay\",\"size\":10,\"solidity\":0.2}},\"type\":\"barpolar\"}],\"pie\":[{\"automargin\":true,\"type\":\"pie\"}]},\"layout\":{\"autotypenumbers\":\"strict\",\"colorway\":[\"#636efa\",\"#EF553B\",\"#00cc96\",\"#ab63fa\",\"#FFA15A\",\"#19d3f3\",\"#FF6692\",\"#B6E880\",\"#FF97FF\",\"#FECB52\"],\"font\":{\"color\":\"#2a3f5f\"},\"hovermode\":\"closest\",\"hoverlabel\":{\"align\":\"left\"},\"paper_bgcolor\":\"white\",\"plot_bgcolor\":\"#E5ECF6\",\"polar\":{\"bgcolor\":\"#E5ECF6\",\"angularaxis\":{\"gridcolor\":\"white\",\"linecolor\":\"white\",\"ticks\":\"\"},\"radialaxis\":{\"gridcolor\":\"white\",\"linecolor\":\"white\",\"ticks\":\"\"}},\"ternary\":{\"bgcolor\":\"#E5ECF6\",\"aaxis\":{\"gridcolor\":\"white\",\"linecolor\":\"white\",\"ticks\":\"\"},\"baxis\":{\"gridcolor\":\"white\",\"linecolor\":\"white\",\"ticks\":\"\"},\"caxis\":{\"gridcolor\":\"white\",\"linecolor\":\"white\",\"ticks\":\"\"}},\"coloraxis\":{\"colorbar\":{\"outlinewidth\":0,\"ticks\":\"\"}},\"colorscale\":{\"sequential\":[[0.0,\"#0d0887\"],[0.1111111111111111,\"#46039f\"],[0.2222222222222222,\"#7201a8\"],[0.3333333333333333,\"#9c179e\"],[0.4444444444444444,\"#bd3786\"],[0.5555555555555556,\"#d8576b\"],[0.6666666666666666,\"#ed7953\"],[0.7777777777777778,\"#fb9f3a\"],[0.8888888888888888,\"#fdca26\"],[1.0,\"#f0f921\"]],\"sequentialminus\":[[0.0,\"#0d0887\"],[0.1111111111111111,\"#46039f\"],[0.2222222222222222,\"#7201a8\"],[0.3333333333333333,\"#9c179e\"],[0.4444444444444444,\"#bd3786\"],[0.5555555555555556,\"#d8576b\"],[0.6666666666666666,\"#ed7953\"],[0.7777777777777778,\"#fb9f3a\"],[0.8888888888888888,\"#fdca26\"],[1.0,\"#f0f921\"]],\"diverging\":[[0,\"#8e0152\"],[0.1,\"#c51b7d\"],[0.2,\"#de77ae\"],[0.3,\"#f1b6da\"],[0.4,\"#fde0ef\"],[0.5,\"#f7f7f7\"],[0.6,\"#e6f5d0\"],[0.7,\"#b8e186\"],[0.8,\"#7fbc41\"],[0.9,\"#4d9221\"],[1,\"#276419\"]]},\"xaxis\":{\"gridcolor\":\"white\",\"linecolor\":\"white\",\"ticks\":\"\",\"title\":{\"standoff\":15},\"zerolinecolor\":\"white\",\"automargin\":true,\"zerolinewidth\":2},\"yaxis\":{\"gridcolor\":\"white\",\"linecolor\":\"white\",\"ticks\":\"\",\"title\":{\"standoff\":15},\"zerolinecolor\":\"white\",\"automargin\":true,\"zerolinewidth\":2},\"scene\":{\"xaxis\":{\"backgroundcolor\":\"#E5ECF6\",\"gridcolor\":\"white\",\"linecolor\":\"white\",\"showbackground\":true,\"ticks\":\"\",\"zerolinecolor\":\"white\",\"gridwidth\":2},\"yaxis\":{\"backgroundcolor\":\"#E5ECF6\",\"gridcolor\":\"white\",\"linecolor\":\"white\",\"showbackground\":true,\"ticks\":\"\",\"zerolinecolor\":\"white\",\"gridwidth\":2},\"zaxis\":{\"backgroundcolor\":\"#E5ECF6\",\"gridcolor\":\"white\",\"linecolor\":\"white\",\"showbackground\":true,\"ticks\":\"\",\"zerolinecolor\":\"white\",\"gridwidth\":2}},\"shapedefaults\":{\"line\":{\"color\":\"#2a3f5f\"}},\"annotationdefaults\":{\"arrowcolor\":\"#2a3f5f\",\"arrowhead\":0,\"arrowwidth\":1},\"geo\":{\"bgcolor\":\"white\",\"landcolor\":\"#E5ECF6\",\"subunitcolor\":\"white\",\"showland\":true,\"showlakes\":true,\"lakecolor\":\"white\"},\"title\":{\"x\":0.05},\"mapbox\":{\"style\":\"light\"}}},\"xaxis\":{\"anchor\":\"y\",\"domain\":[0.0,1.0],\"title\":{\"text\":\"\\u0441(Ti4+), mol/l\"}},\"yaxis\":{\"anchor\":\"x\",\"domain\":[0.0,1.0],\"title\":{\"text\":\"d, nm\"}},\"coloraxis\":{\"colorbar\":{\"title\":{\"text\":\"Stability of sols, days\"}},\"colorscale\":[[0.0,\"#0d0887\"],[0.1111111111111111,\"#46039f\"],[0.2222222222222222,\"#7201a8\"],[0.3333333333333333,\"#9c179e\"],[0.4444444444444444,\"#bd3786\"],[0.5555555555555556,\"#d8576b\"],[0.6666666666666666,\"#ed7953\"],[0.7777777777777778,\"#fb9f3a\"],[0.8888888888888888,\"#fdca26\"],[1.0,\"#f0f921\"]]},\"legend\":{\"tracegroupgap\":0},\"margin\":{\"t\":60},\"height\":600,\"width\":900,\"title\":{\"text\":\"c(Ti4+) to d, nm\"}},                        {\"responsive\": true}                    ).then(function(){\n",
       "                            \n",
       "var gd = document.getElementById('a097e0e2-c9af-4734-af7f-bd6047e3835b');\n",
       "var x = new MutationObserver(function (mutations, observer) {{\n",
       "        var display = window.getComputedStyle(gd).display;\n",
       "        if (!display || display === 'none') {{\n",
       "            console.log([gd, 'removed!']);\n",
       "            Plotly.purge(gd);\n",
       "            observer.disconnect();\n",
       "        }}\n",
       "}});\n",
       "\n",
       "// Listen for the removal of the full notebook cells\n",
       "var notebookContainer = gd.closest('#notebook-container');\n",
       "if (notebookContainer) {{\n",
       "    x.observe(notebookContainer, {childList: true});\n",
       "}}\n",
       "\n",
       "// Listen for the clearing of the current output cell\n",
       "var outputEl = gd.closest('.output');\n",
       "if (outputEl) {{\n",
       "    x.observe(outputEl, {childList: true});\n",
       "}}\n",
       "\n",
       "                        })                };                });            </script>        </div>"
      ]
     },
     "metadata": {},
     "output_type": "display_data"
    }
   ],
   "source": [
    "import plotly.express as px\n",
    "\n",
    "fig = px.scatter(df, x='с(Ti4+), mol/l', y='d, nm', color='Stability of sols, days', hover_data=df.columns, width=900, height=600)\n",
    "\n",
    "# # Customize aspect\n",
    "fig.update_traces(marker=dict(size=8, line=dict(width=0.5)), selector=dict(mode='markers')) \n",
    "fig.update_layout(title='c(Ti4+) to d, nm', xaxis_title='с(Ti4+), mol/l', yaxis_title='d, nm')\n",
    "# fig.update_yaxes(scaleanchor = \"x\", scaleratio = 1)\n",
    "fig.write_html(artifacts_path + \"Plot_c(Ti4+)_to_d,nm.html\")\n",
    "fig.show()"
   ]
  },
  {
   "cell_type": "code",
   "execution_count": 46,
   "metadata": {
    "tags": []
   },
   "outputs": [],
   "source": [
    "new_col = []\n",
    "for elem in df['d, nm']:\n",
    "    if elem > 2000:\n",
    "        new_col.append(5)\n",
    "    elif elem > 1000:\n",
    "        new_col.append(4)\n",
    "    elif elem > 400:\n",
    "        new_col.append(3)\n",
    "    elif elem > 2:\n",
    "        new_col.append(2)\n",
    "    elif elem > 1:\n",
    "        new_col.append(1)\n",
    "    else:\n",
    "        new_col.append(0)\n",
    "df['d_categorical'] = new_col"
   ]
  },
  {
   "cell_type": "code",
   "execution_count": 47,
   "metadata": {
    "tags": []
   },
   "outputs": [
    {
     "data": {
      "text/html": [
       "<div>\n",
       "<style scoped>\n",
       "    .dataframe tbody tr th:only-of-type {\n",
       "        vertical-align: middle;\n",
       "    }\n",
       "\n",
       "    .dataframe tbody tr th {\n",
       "        vertical-align: top;\n",
       "    }\n",
       "\n",
       "    .dataframe thead th {\n",
       "        text-align: right;\n",
       "    }\n",
       "</style>\n",
       "<table border=\"1\" class=\"dataframe\">\n",
       "  <thead>\n",
       "    <tr style=\"text-align: right;\">\n",
       "      <th></th>\n",
       "      <th>t, °С</th>\n",
       "      <th>t, min</th>\n",
       "      <th>с(acid), mol/l</th>\n",
       "      <th>с(Ti4+), mol/l</th>\n",
       "      <th>ultrasound</th>\n",
       "      <th>d, nm</th>\n",
       "      <th>Contents, %</th>\n",
       "      <th>Stability of sols, days</th>\n",
       "      <th>d_categorical</th>\n",
       "    </tr>\n",
       "  </thead>\n",
       "  <tbody>\n",
       "    <tr>\n",
       "      <th>0</th>\n",
       "      <td>45.0</td>\n",
       "      <td>60.0</td>\n",
       "      <td>4.0</td>\n",
       "      <td>0.50</td>\n",
       "      <td>0.0</td>\n",
       "      <td>618.500</td>\n",
       "      <td>100.0</td>\n",
       "      <td>16.0</td>\n",
       "      <td>3</td>\n",
       "    </tr>\n",
       "    <tr>\n",
       "      <th>1</th>\n",
       "      <td>80.0</td>\n",
       "      <td>10.0</td>\n",
       "      <td>4.0</td>\n",
       "      <td>0.50</td>\n",
       "      <td>0.0</td>\n",
       "      <td>978.100</td>\n",
       "      <td>100.0</td>\n",
       "      <td>16.0</td>\n",
       "      <td>3</td>\n",
       "    </tr>\n",
       "    <tr>\n",
       "      <th>2</th>\n",
       "      <td>45.0</td>\n",
       "      <td>20.0</td>\n",
       "      <td>4.0</td>\n",
       "      <td>0.50</td>\n",
       "      <td>0.0</td>\n",
       "      <td>2.000</td>\n",
       "      <td>100.0</td>\n",
       "      <td>90.0</td>\n",
       "      <td>1</td>\n",
       "    </tr>\n",
       "    <tr>\n",
       "      <th>3</th>\n",
       "      <td>45.0</td>\n",
       "      <td>20.0</td>\n",
       "      <td>4.0</td>\n",
       "      <td>0.47</td>\n",
       "      <td>0.0</td>\n",
       "      <td>2.628</td>\n",
       "      <td>100.0</td>\n",
       "      <td>60.0</td>\n",
       "      <td>2</td>\n",
       "    </tr>\n",
       "    <tr>\n",
       "      <th>4</th>\n",
       "      <td>50.0</td>\n",
       "      <td>20.0</td>\n",
       "      <td>4.0</td>\n",
       "      <td>0.20</td>\n",
       "      <td>0.0</td>\n",
       "      <td>1712.000</td>\n",
       "      <td>100.0</td>\n",
       "      <td>16.0</td>\n",
       "      <td>4</td>\n",
       "    </tr>\n",
       "    <tr>\n",
       "      <th>...</th>\n",
       "      <td>...</td>\n",
       "      <td>...</td>\n",
       "      <td>...</td>\n",
       "      <td>...</td>\n",
       "      <td>...</td>\n",
       "      <td>...</td>\n",
       "      <td>...</td>\n",
       "      <td>...</td>\n",
       "      <td>...</td>\n",
       "    </tr>\n",
       "    <tr>\n",
       "      <th>66</th>\n",
       "      <td>70.0</td>\n",
       "      <td>12.0</td>\n",
       "      <td>0.1</td>\n",
       "      <td>0.62</td>\n",
       "      <td>0.0</td>\n",
       "      <td>2.900</td>\n",
       "      <td>99.5</td>\n",
       "      <td>40.0</td>\n",
       "      <td>2</td>\n",
       "    </tr>\n",
       "    <tr>\n",
       "      <th>67</th>\n",
       "      <td>70.0</td>\n",
       "      <td>12.0</td>\n",
       "      <td>0.1</td>\n",
       "      <td>0.59</td>\n",
       "      <td>0.0</td>\n",
       "      <td>1.901</td>\n",
       "      <td>100.0</td>\n",
       "      <td>40.0</td>\n",
       "      <td>1</td>\n",
       "    </tr>\n",
       "    <tr>\n",
       "      <th>68</th>\n",
       "      <td>70.0</td>\n",
       "      <td>12.0</td>\n",
       "      <td>0.1</td>\n",
       "      <td>0.55</td>\n",
       "      <td>0.0</td>\n",
       "      <td>2.841</td>\n",
       "      <td>100.0</td>\n",
       "      <td>40.0</td>\n",
       "      <td>2</td>\n",
       "    </tr>\n",
       "    <tr>\n",
       "      <th>69</th>\n",
       "      <td>70.0</td>\n",
       "      <td>12.0</td>\n",
       "      <td>0.1</td>\n",
       "      <td>0.52</td>\n",
       "      <td>0.0</td>\n",
       "      <td>2.162</td>\n",
       "      <td>97.8</td>\n",
       "      <td>40.0</td>\n",
       "      <td>2</td>\n",
       "    </tr>\n",
       "    <tr>\n",
       "      <th>70</th>\n",
       "      <td>80.0</td>\n",
       "      <td>8.0</td>\n",
       "      <td>0.1</td>\n",
       "      <td>0.60</td>\n",
       "      <td>0.0</td>\n",
       "      <td>2.197</td>\n",
       "      <td>100.0</td>\n",
       "      <td>60.0</td>\n",
       "      <td>2</td>\n",
       "    </tr>\n",
       "  </tbody>\n",
       "</table>\n",
       "<p>71 rows × 9 columns</p>\n",
       "</div>"
      ],
      "text/plain": [
       "    t, °С  t, min  с(acid), mol/l  с(Ti4+), mol/l  ultrasound      d, nm  \\\n",
       "0    45.0    60.0             4.0            0.50          0.0   618.500   \n",
       "1    80.0    10.0             4.0            0.50          0.0   978.100   \n",
       "2    45.0    20.0             4.0            0.50          0.0     2.000   \n",
       "3    45.0    20.0             4.0            0.47          0.0     2.628   \n",
       "4    50.0    20.0             4.0            0.20          0.0  1712.000   \n",
       "..    ...     ...             ...             ...          ...       ...   \n",
       "66   70.0    12.0             0.1            0.62          0.0     2.900   \n",
       "67   70.0    12.0             0.1            0.59          0.0     1.901   \n",
       "68   70.0    12.0             0.1            0.55          0.0     2.841   \n",
       "69   70.0    12.0             0.1            0.52          0.0     2.162   \n",
       "70   80.0     8.0             0.1            0.60          0.0     2.197   \n",
       "\n",
       "    Contents, %  Stability of sols, days  d_categorical  \n",
       "0         100.0                     16.0              3  \n",
       "1         100.0                     16.0              3  \n",
       "2         100.0                     90.0              1  \n",
       "3         100.0                     60.0              2  \n",
       "4         100.0                     16.0              4  \n",
       "..          ...                      ...            ...  \n",
       "66         99.5                     40.0              2  \n",
       "67        100.0                     40.0              1  \n",
       "68        100.0                     40.0              2  \n",
       "69         97.8                     40.0              2  \n",
       "70        100.0                     60.0              2  \n",
       "\n",
       "[71 rows x 9 columns]"
      ]
     },
     "execution_count": 47,
     "metadata": {},
     "output_type": "execute_result"
    }
   ],
   "source": [
    "df"
   ]
  },
  {
   "cell_type": "code",
   "execution_count": 48,
   "metadata": {
    "tags": []
   },
   "outputs": [
    {
     "data": {
      "image/png": "[encoded data removed]",
      "text/plain": [
       "<Figure size 640x480 with 1 Axes>"
      ]
     },
     "metadata": {},
     "output_type": "display_data"
    }
   ],
   "source": [
    "sns.histplot(df, x='с(Ti4+), mol/l', hue='d_categorical', multiple=\"stack\", palette='mako').set(title=f'с(Ti4+) distribution')\n",
    "\n",
    "plt.show()"
   ]
  },
  {
   "cell_type": "code",
   "execution_count": 49,
   "metadata": {
    "tags": []
   },
   "outputs": [
    {
     "data": {
      "image/png": "[encoded data removed]",
      "text/plain": [
       "<Figure size 2000x2500 with 6 Axes>"
      ]
     },
     "metadata": {},
     "output_type": "display_data"
    }
   ],
   "source": [
    "fig, axes = plt.subplots(ncols=2, nrows=3)\n",
    "fig.set_size_inches(20, 25)\n",
    "\n",
    "for col, ax in zip(['t, °С', 't, min', 'с(acid), mol/l', 'с(Ti4+), mol/l', 'ultrasound '], axes.flat):\n",
    "    sns.histplot(df, x=col, hue='d_categorical', multiple=\"stack\", palette='mako', ax=ax).set(title=f'{col} distribution')\n",
    "\n",
    "fig.subplots_adjust(hspace=0.15)\n",
    "axes[-1, -1].axis('off')\n",
    "plt.savefig(artifacts_path + 'distibution_with_d_categorical.pdf', format='pdf', dpi=600)\n",
    "plt.show()"
   ]
  }
 ],
 "metadata": {
  "kernelspec": {
   "display_name": "Python 3 (ipykernel)",
   "language": "python",
   "name": "python3"
  },
  "language_info": {
   "codemirror_mode": {
    "name": "ipython",
    "version": 3
   },
   "file_extension": ".py",
   "mimetype": "text/x-python",
   "name": "python",
   "nbconvert_exporter": "python",
   "pygments_lexer": "ipython3",
   "version": "3.10.10"
  }
 },
 "nbformat": 4,
 "nbformat_minor": 4
}
